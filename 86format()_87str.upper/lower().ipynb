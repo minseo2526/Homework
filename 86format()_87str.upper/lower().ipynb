{
  "nbformat": 4,
  "nbformat_minor": 0,
  "metadata": {
    "colab": {
      "name": "CodeCells_Basic_.ipynb",
      "provenance": [],
      "toc_visible": true,
      "include_colab_link": true
    },
    "kernelspec": {
      "name": "python3",
      "display_name": "Python 3"
    },
    "language_info": {
      "name": "python"
    }
  },
  "cells": [
    {
      "cell_type": "markdown",
      "metadata": {
        "id": "view-in-github",
        "colab_type": "text"
      },
      "source": [
        "<a href=\"https://colab.research.google.com/github/minseo2526/Homework/blob/main/86format()_87str.upper/lower().ipynb\" target=\"_parent\"><img src=\"https://colab.research.google.com/assets/colab-badge.svg\" alt=\"Open In Colab\"/></a>"
      ]
    },
    {
      "cell_type": "code",
      "source": [
        "names=['유비','관우','장비','조운','제갈량']\n",
        "for idx,name in enumerate(names,start=1):\n",
        "  order=format(idx,'03')\n",
        "  print(f'{order}-{name}')"
      ],
      "metadata": {
        "colab": {
          "base_uri": "https://localhost:8080/"
        },
        "id": "f1COgrw4N2Ov",
        "outputId": "00b16735-2fdc-4897-c262-e0186802ef5d"
      },
      "execution_count": null,
      "outputs": [
        {
          "output_type": "stream",
          "name": "stdout",
          "text": [
            "001-유비\n",
            "002-관우\n",
            "003-장비\n",
            "004-조운\n",
            "005-제갈량\n"
          ]
        }
      ]
    },
    {
      "cell_type": "code",
      "source": [
        "lyrics='A lot of Things occur Each Day!'\n",
        "print(lyrics.upper())\n",
        "print(lyrics.lower())\n",
        "print(lyrics)"
      ],
      "metadata": {
        "colab": {
          "base_uri": "https://localhost:8080/"
        },
        "id": "zRa8Nx_OOULN",
        "outputId": "3b663c7f-f714-4294-f38c-4c0716df5912"
      },
      "execution_count": null,
      "outputs": [
        {
          "output_type": "stream",
          "name": "stdout",
          "text": [
            "A LOT OF THINGS OCCUR EACH DAY!\n",
            "a lot of things occur each day!\n",
            "A lot of Things occur Each Day!\n"
          ]
        }
      ]
    }
  ]
}