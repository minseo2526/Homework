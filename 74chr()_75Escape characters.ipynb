{
  "nbformat": 4,
  "nbformat_minor": 0,
  "metadata": {
    "colab": {
      "name": "CodeCells_Basic_.ipynb",
      "provenance": [],
      "toc_visible": true,
      "include_colab_link": true
    },
    "kernelspec": {
      "name": "python3",
      "display_name": "Python 3"
    },
    "language_info": {
      "name": "python"
    }
  },
  "cells": [
    {
      "cell_type": "markdown",
      "metadata": {
        "id": "view-in-github",
        "colab_type": "text"
      },
      "source": [
        "<a href=\"https://colab.research.google.com/github/minseo2526/Homework/blob/main/74chr()_75Escape%20characters.ipynb\" target=\"_parent\"><img src=\"https://colab.research.google.com/assets/colab-badge.svg\" alt=\"Open In Colab\"/></a>"
      ]
    },
    {
      "cell_type": "code",
      "source": [
        "while True:\n",
        "  code=input('0x로 시작하는 16진수 문자 코드값을 입력하세요[끝내려면 엔터를 치세요]:')\n",
        "  if len(code)==0:\n",
        "    break\n",
        "  unicode=int(code,16)\n",
        "  try:\n",
        "    ch=chr(unicode)\n",
        "    print(f'-->코드값:{code},문자:\"{ch}')\n",
        "  except ValueError:\n",
        "    print(f'코드값{code}에 해당하는 문자가 존재하지 않습니다.')"
      ],
      "metadata": {
        "colab": {
          "base_uri": "https://localhost:8080/"
        },
        "id": "wUavoPae_1QC",
        "outputId": "07fc73c8-aa7b-4810-b529-406dddf4f3fc"
      },
      "execution_count": null,
      "outputs": [
        {
          "name": "stdout",
          "output_type": "stream",
          "text": [
            "0x로 시작하는 16진수 문자 코드값을 입력하세요[끝내려면 엔터를 치세요]:0x61\n",
            "-->코드값:0x61,문자:\"a\n",
            "0x로 시작하는 16진수 문자 코드값을 입력하세요[끝내려면 엔터를 치세요]:0x03b2\n",
            "-->코드값:0x03b2,문자:\"β\n",
            "0x로 시작하는 16진수 문자 코드값을 입력하세요[끝내려면 엔터를 치세요]:0xac00\n",
            "-->코드값:0xac00,문자:\"가\n",
            "0x로 시작하는 16진수 문자 코드값을 입력하세요[끝내려면 엔터를 치세요]:\n"
          ]
        }
      ]
    },
    {
      "cell_type": "code",
      "source": [
        "print('파이썬은 자바보다 쉽습니다.\\n그래서 나는 파이썬을 사랑합니다.')"
      ],
      "metadata": {
        "colab": {
          "base_uri": "https://localhost:8080/"
        },
        "id": "hosgblkaA9Wb",
        "outputId": "16fbed09-4fff-4fe1-8ea1-21e775fd45cf"
      },
      "execution_count": null,
      "outputs": [
        {
          "output_type": "stream",
          "name": "stdout",
          "text": [
            "파이썬은 자바보다 쉽습니다.\n",
            "그래서 나는 파이썬을 사랑합니다.\n"
          ]
        }
      ]
    },
    {
      "cell_type": "code",
      "source": [
        "text='파이썬은 자바보다 쉽습니다.\\\n",
        "그래서 나는 파이썬을 사랑합니다.'\n",
        "print(text)"
      ],
      "metadata": {
        "colab": {
          "base_uri": "https://localhost:8080/"
        },
        "id": "xF-ybBViBViU",
        "outputId": "d4a7d626-23d1-4a01-abcd-cbb7328af493"
      },
      "execution_count": null,
      "outputs": [
        {
          "output_type": "stream",
          "name": "stdout",
          "text": [
            "파이썬은 자바보다 쉽습니다.그래서 나는 파이썬을 사랑합니다.\n"
          ]
        }
      ]
    },
    {
      "cell_type": "code",
      "source": [
        "print('이스케이프 문자 \"\\\\t\"는 탭을 의미합니다.')"
      ],
      "metadata": {
        "colab": {
          "base_uri": "https://localhost:8080/"
        },
        "id": "LaC3hkuGBqr0",
        "outputId": "65a648df-4d6e-4f8d-b7e7-cdd18043e33c"
      },
      "execution_count": null,
      "outputs": [
        {
          "output_type": "stream",
          "name": "stdout",
          "text": [
            "이스케이프 문자 \"\\t\"는 탭을 의미합니다.\n"
          ]
        }
      ]
    },
    {
      "cell_type": "code",
      "source": [
        "print('\\'파이썬\\'은 뱀의 한 종류입니다.')"
      ],
      "metadata": {
        "colab": {
          "base_uri": "https://localhost:8080/"
        },
        "id": "974y5w2HCYEi",
        "outputId": "637d7a01-050f-46e6-819b-427ff35672d6"
      },
      "execution_count": null,
      "outputs": [
        {
          "output_type": "stream",
          "name": "stdout",
          "text": [
            "'파이썬'은 뱀의 한 종류입니다.\n"
          ]
        }
      ]
    }
  ]
}