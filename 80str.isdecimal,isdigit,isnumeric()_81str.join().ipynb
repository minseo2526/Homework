{
  "nbformat": 4,
  "nbformat_minor": 0,
  "metadata": {
    "colab": {
      "name": "CodeCells_Basic_.ipynb",
      "provenance": [],
      "toc_visible": true,
      "include_colab_link": true
    },
    "kernelspec": {
      "name": "python3",
      "display_name": "Python 3"
    },
    "language_info": {
      "name": "python"
    }
  },
  "cells": [
    {
      "cell_type": "markdown",
      "metadata": {
        "id": "view-in-github",
        "colab_type": "text"
      },
      "source": [
        "<a href=\"https://colab.research.google.com/github/minseo2526/Homework/blob/main/80str.isdecimal%2Cisdigit%2Cisnumeric()_81str.join().ipynb\" target=\"_parent\"><img src=\"https://colab.research.google.com/assets/colab-badge.svg\" alt=\"Open In Colab\"/></a>"
      ]
    },
    {
      "cell_type": "code",
      "source": [
        "numbers=['1004','-1','3.14','IX','7/8','5**2','50%']"
      ],
      "metadata": {
        "id": "8N9uGU5fhpjd"
      },
      "execution_count": null,
      "outputs": []
    },
    {
      "cell_type": "code",
      "source": [
        "for number in numbers:\n",
        "  print(f'\"{number}\"\\t-->{number.isdecimal()}')"
      ],
      "metadata": {
        "colab": {
          "base_uri": "https://localhost:8080/"
        },
        "id": "ng5PAgAuiEzh",
        "outputId": "99658c17-db73-4949-c94e-22d208ef4b69"
      },
      "execution_count": null,
      "outputs": [
        {
          "output_type": "stream",
          "name": "stdout",
          "text": [
            "\"1004\"\t-->True\n",
            "\"-1\"\t-->False\n",
            "\"3.14\"\t-->False\n",
            "\"IX\"\t-->False\n",
            "\"7/8\"\t-->False\n",
            "\"5**2\"\t-->False\n",
            "\"50%\"\t-->False\n"
          ]
        }
      ]
    },
    {
      "cell_type": "code",
      "source": [
        "for number in numbers:\n",
        "  print(f'\"{number}\"\\t-->{number.isdigit()}')"
      ],
      "metadata": {
        "colab": {
          "base_uri": "https://localhost:8080/"
        },
        "id": "uByYAQSqiVXs",
        "outputId": "f830b564-73ad-477d-bcef-69da375451b0"
      },
      "execution_count": null,
      "outputs": [
        {
          "output_type": "stream",
          "name": "stdout",
          "text": [
            "\"1004\"\t-->True\n",
            "\"-1\"\t-->False\n",
            "\"3.14\"\t-->False\n",
            "\"IX\"\t-->False\n",
            "\"7/8\"\t-->False\n",
            "\"5**2\"\t-->False\n",
            "\"50%\"\t-->False\n"
          ]
        }
      ]
    },
    {
      "cell_type": "code",
      "source": [
        "for number in numbers:\n",
        "  print(f'\"{number}\"\\t-->{number.isnumeric()}')"
      ],
      "metadata": {
        "colab": {
          "base_uri": "https://localhost:8080/"
        },
        "id": "xoZmVrsWifRp",
        "outputId": "6dce8d68-549b-47da-8478-7a1c6f2b3dc2"
      },
      "execution_count": null,
      "outputs": [
        {
          "output_type": "stream",
          "name": "stdout",
          "text": [
            "\"1004\"\t-->True\n",
            "\"-1\"\t-->False\n",
            "\"3.14\"\t-->False\n",
            "\"IX\"\t-->False\n",
            "\"7/8\"\t-->False\n",
            "\"5**2\"\t-->False\n",
            "\"50%\"\t-->False\n"
          ]
        }
      ]
    },
    {
      "cell_type": "code",
      "source": [
        "profile=['홍길동','남자','18세','도적','초능력자']\n",
        "logData=';'.join(profile)\n",
        "print(logData)"
      ],
      "metadata": {
        "colab": {
          "base_uri": "https://localhost:8080/"
        },
        "id": "obOmYEnninkU",
        "outputId": "d4380e4e-655a-45f1-f77d-39d0193a45c4"
      },
      "execution_count": null,
      "outputs": [
        {
          "output_type": "stream",
          "name": "stdout",
          "text": [
            "홍길동;남자;18세;도적;초능력자\n"
          ]
        }
      ]
    },
    {
      "cell_type": "code",
      "source": [
        "profile=['홍길동','남자',18,'도적','초능력자']\n",
        "logData=';'.join(profile)"
      ],
      "metadata": {
        "colab": {
          "base_uri": "https://localhost:8080/",
          "height": 169
        },
        "id": "oD5FabQti9CZ",
        "outputId": "7e1c8b27-3e03-40bb-8116-b1c0e0c6ed9e"
      },
      "execution_count": null,
      "outputs": [
        {
          "output_type": "error",
          "ename": "TypeError",
          "evalue": "sequence item 2: expected str instance, int found",
          "traceback": [
            "\u001b[0;31m---------------------------------------------------------------------------\u001b[0m",
            "\u001b[0;31mTypeError\u001b[0m                                 Traceback (most recent call last)",
            "\u001b[0;32m/tmp/ipython-input-4170307000.py\u001b[0m in \u001b[0;36m<cell line: 0>\u001b[0;34m()\u001b[0m\n\u001b[1;32m      1\u001b[0m \u001b[0mprofile\u001b[0m\u001b[0;34m=\u001b[0m\u001b[0;34m[\u001b[0m\u001b[0;34m'홍길동'\u001b[0m\u001b[0;34m,\u001b[0m\u001b[0;34m'남자'\u001b[0m\u001b[0;34m,\u001b[0m\u001b[0;36m18\u001b[0m\u001b[0;34m,\u001b[0m\u001b[0;34m'도적'\u001b[0m\u001b[0;34m,\u001b[0m\u001b[0;34m'초능력자'\u001b[0m\u001b[0;34m]\u001b[0m\u001b[0;34m\u001b[0m\u001b[0;34m\u001b[0m\u001b[0m\n\u001b[0;32m----> 2\u001b[0;31m \u001b[0mlogData\u001b[0m\u001b[0;34m=\u001b[0m\u001b[0;34m';'\u001b[0m\u001b[0;34m.\u001b[0m\u001b[0mjoin\u001b[0m\u001b[0;34m(\u001b[0m\u001b[0mprofile\u001b[0m\u001b[0;34m)\u001b[0m\u001b[0;34m\u001b[0m\u001b[0;34m\u001b[0m\u001b[0m\n\u001b[0m",
            "\u001b[0;31mTypeError\u001b[0m: sequence item 2: expected str instance, int found"
          ]
        }
      ]
    }
  ]
}