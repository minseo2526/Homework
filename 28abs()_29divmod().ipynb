{
  "nbformat": 4,
  "nbformat_minor": 0,
  "metadata": {
    "colab": {
      "name": "CodeCells_Basic_.ipynb",
      "provenance": [],
      "toc_visible": true,
      "include_colab_link": true
    },
    "kernelspec": {
      "name": "python3",
      "display_name": "Python 3"
    },
    "language_info": {
      "name": "python"
    }
  },
  "cells": [
    {
      "cell_type": "markdown",
      "metadata": {
        "id": "view-in-github",
        "colab_type": "text"
      },
      "source": [
        "<a href=\"https://colab.research.google.com/github/minseo2526/Homework/blob/main/28abs()_29divmod().ipynb\" target=\"_parent\"><img src=\"https://colab.research.google.com/assets/colab-badge.svg\" alt=\"Open In Colab\"/></a>"
      ]
    },
    {
      "cell_type": "code",
      "source": [
        "intData=-8\n",
        "floatData=3.14\n",
        "complexData=3+4j\n",
        "print(abs(intData))\n",
        "print(abs(floatData))\n",
        "print(abs(complexData))"
      ],
      "metadata": {
        "colab": {
          "base_uri": "https://localhost:8080/"
        },
        "id": "QU0OC-XPkT9X",
        "outputId": "1b8fec89-25d5-42b6-beca-49676963a9c0"
      },
      "execution_count": null,
      "outputs": [
        {
          "output_type": "stream",
          "name": "stdout",
          "text": [
            "8\n",
            "3.14\n",
            "5.0\n"
          ]
        }
      ]
    },
    {
      "cell_type": "code",
      "source": [
        "x=11113\n",
        "y=23\n",
        "ret1=x//y\n",
        "ret2=x%y\n",
        "print(f'{x}을 {y}로 나누면 몫이 {ret1}, 나머지가 {ret2}입니다.')"
      ],
      "metadata": {
        "colab": {
          "base_uri": "https://localhost:8080/"
        },
        "id": "44-Yj80ikm4f",
        "outputId": "c4ba4408-eb7a-4039-b88f-ca44abdeb19f"
      },
      "execution_count": null,
      "outputs": [
        {
          "output_type": "stream",
          "name": "stdout",
          "text": [
            "11113을 23로 나누면 몫이 483, 나머지가 4입니다.\n"
          ]
        }
      ]
    },
    {
      "cell_type": "code",
      "source": [
        "x=11113\n",
        "y=23\n",
        "ret1,ret2=divmod(x,y)\n",
        "print(f'{x}을 {y}로 나누면 몫이 {ret1}, 나머지가 {ret2}입니다.')"
      ],
      "metadata": {
        "colab": {
          "base_uri": "https://localhost:8080/"
        },
        "id": "RU-ISh7uk8W8",
        "outputId": "5cb83837-3bd5-42e4-c962-08ed98ddb3be"
      },
      "execution_count": null,
      "outputs": [
        {
          "output_type": "stream",
          "name": "stdout",
          "text": [
            "11113을 23로 나누면 몫이 483, 나머지가 4입니다.\n"
          ]
        }
      ]
    }
  ]
}