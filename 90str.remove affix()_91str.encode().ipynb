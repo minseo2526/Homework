{
  "nbformat": 4,
  "nbformat_minor": 0,
  "metadata": {
    "colab": {
      "name": "CodeCells_Basic_.ipynb",
      "provenance": [],
      "toc_visible": true,
      "include_colab_link": true
    },
    "kernelspec": {
      "name": "python3",
      "display_name": "Python 3"
    },
    "language_info": {
      "name": "python"
    }
  },
  "cells": [
    {
      "cell_type": "markdown",
      "metadata": {
        "id": "view-in-github",
        "colab_type": "text"
      },
      "source": [
        "<a href=\"https://colab.research.google.com/github/minseo2526/Homework/blob/main/90str.remove%20affix()_91str.encode().ipynb\" target=\"_parent\"><img src=\"https://colab.research.google.com/assets/colab-badge.svg\" alt=\"Open In Colab\"/></a>"
      ]
    },
    {
      "cell_type": "code",
      "source": [
        "strData='[info]Seoul is the captia of Korea.'\n",
        "cityinfo=strData.removeprefix('[info]')\n",
        "print(cityinfo)"
      ],
      "metadata": {
        "colab": {
          "base_uri": "https://localhost:8080/"
        },
        "id": "DjgiW7dAQHNM",
        "outputId": "fb009fc1-a6a1-4e76-d00c-7d020fc3c466"
      },
      "execution_count": null,
      "outputs": [
        {
          "output_type": "stream",
          "name": "stdout",
          "text": [
            "Seoul is the captia of Korea.\n"
          ]
        }
      ]
    },
    {
      "cell_type": "code",
      "source": [
        "strData='이것으로 문장을 마무리합니다.<EOD>'\n",
        "ret=strData.removesuffix('<EOD>')\n",
        "print(ret)"
      ],
      "metadata": {
        "colab": {
          "base_uri": "https://localhost:8080/"
        },
        "id": "X2abYurEQZza",
        "outputId": "7d186faa-7a33-4ed2-8bbe-0bfadcb25bf5"
      },
      "execution_count": null,
      "outputs": [
        {
          "output_type": "stream",
          "name": "stdout",
          "text": [
            "이것으로 문장을 마무리합니다.\n"
          ]
        }
      ]
    },
    {
      "cell_type": "code",
      "source": [
        "strData='python'\n",
        "byteData=strData.encode()\n",
        "print(byteData)"
      ],
      "metadata": {
        "colab": {
          "base_uri": "https://localhost:8080/"
        },
        "id": "NPbrxhilQpEd",
        "outputId": "9b1f1b0a-e337-411f-e117-d1e31de50d30"
      },
      "execution_count": null,
      "outputs": [
        {
          "output_type": "stream",
          "name": "stdout",
          "text": [
            "b'python'\n"
          ]
        }
      ]
    },
    {
      "cell_type": "code",
      "source": [
        "for idx,c in enumerate(strData):\n",
        "    print(f'strData[{idx}]={c}')"
      ],
      "metadata": {
        "colab": {
          "base_uri": "https://localhost:8080/"
        },
        "id": "B9BZsccoQxru",
        "outputId": "5e59ea1d-12e4-4225-8e22-0d69d07d71f4"
      },
      "execution_count": null,
      "outputs": [
        {
          "output_type": "stream",
          "name": "stdout",
          "text": [
            "strData[0]=p\n",
            "strData[1]=y\n",
            "strData[2]=t\n",
            "strData[3]=h\n",
            "strData[4]=o\n",
            "strData[5]=n\n"
          ]
        }
      ]
    },
    {
      "cell_type": "code",
      "source": [
        "for idx,c in enumerate(byteData):\n",
        "    print(f'byteData[{idx}]={c},{hex(c)}')"
      ],
      "metadata": {
        "colab": {
          "base_uri": "https://localhost:8080/"
        },
        "id": "9BPhIsfcQ-NI",
        "outputId": "27738e66-a297-4493-b2d2-b1c704817f2c"
      },
      "execution_count": null,
      "outputs": [
        {
          "output_type": "stream",
          "name": "stdout",
          "text": [
            "byteData[0]=112,0x70\n",
            "byteData[1]=121,0x79\n",
            "byteData[2]=116,0x74\n",
            "byteData[3]=104,0x68\n",
            "byteData[4]=111,0x6f\n",
            "byteData[5]=110,0x6e\n"
          ]
        }
      ]
    }
  ]
}