{
  "nbformat": 4,
  "nbformat_minor": 0,
  "metadata": {
    "colab": {
      "name": "CodeCells_Basic_.ipynb",
      "provenance": [],
      "toc_visible": true,
      "include_colab_link": true
    },
    "kernelspec": {
      "name": "python3",
      "display_name": "Python 3"
    },
    "language_info": {
      "name": "python"
    }
  },
  "cells": [
    {
      "cell_type": "markdown",
      "metadata": {
        "id": "view-in-github",
        "colab_type": "text"
      },
      "source": [
        "<a href=\"https://colab.research.google.com/github/minseo2526/Homework/blob/main/30round()_31int()%2Cfloat()%2Cstr().ipynb\" target=\"_parent\"><img src=\"https://colab.research.google.com/assets/colab-badge.svg\" alt=\"Open In Colab\"/></a>"
      ]
    },
    {
      "cell_type": "code",
      "source": [
        "ret=round(42.195)\n",
        "print(ret)"
      ],
      "metadata": {
        "colab": {
          "base_uri": "https://localhost:8080/"
        },
        "id": "Q-zJHDFZlqWF",
        "outputId": "2785d66f-f5dd-44f1-b446-0373e70e4b59"
      },
      "execution_count": null,
      "outputs": [
        {
          "output_type": "stream",
          "name": "stdout",
          "text": [
            "42\n"
          ]
        }
      ]
    },
    {
      "cell_type": "code",
      "source": [
        "ret=round(42.195,0)\n",
        "print(ret)"
      ],
      "metadata": {
        "colab": {
          "base_uri": "https://localhost:8080/"
        },
        "id": "FmjIsSxQlwAd",
        "outputId": "45766d02-6149-4b7b-b34a-d583b738e5f0"
      },
      "execution_count": null,
      "outputs": [
        {
          "output_type": "stream",
          "name": "stdout",
          "text": [
            "42.0\n"
          ]
        }
      ]
    },
    {
      "cell_type": "code",
      "source": [
        "ret=round(42.195,1)\n",
        "print(ret)"
      ],
      "metadata": {
        "colab": {
          "base_uri": "https://localhost:8080/"
        },
        "id": "O6SoVMUol64I",
        "outputId": "b440782b-4bc6-4ea8-bdae-94e69fcefebb"
      },
      "execution_count": null,
      "outputs": [
        {
          "output_type": "stream",
          "name": "stdout",
          "text": [
            "42.2\n"
          ]
        }
      ]
    },
    {
      "cell_type": "code",
      "source": [
        "ret=round(42.195,-1)\n",
        "print(ret)"
      ],
      "metadata": {
        "colab": {
          "base_uri": "https://localhost:8080/"
        },
        "id": "wRxKuf63l7u_",
        "outputId": "7a9b0833-b66c-40a1-d34d-d21f19c33204"
      },
      "execution_count": null,
      "outputs": [
        {
          "output_type": "stream",
          "name": "stdout",
          "text": [
            "40.0\n"
          ]
        }
      ]
    },
    {
      "cell_type": "code",
      "source": [
        "floatData=1234.5\n",
        "intData=int(floatData)\n",
        "print(f'intData{intData} 자료형은 {type(intData)}입니다.')"
      ],
      "metadata": {
        "colab": {
          "base_uri": "https://localhost:8080/"
        },
        "id": "UCHsiDqll96O",
        "outputId": "f6cb243e-b364-49b0-e288-e7b6d6b0c37e"
      },
      "execution_count": null,
      "outputs": [
        {
          "output_type": "stream",
          "name": "stdout",
          "text": [
            "intData1234 자료형은 <class 'int'>입니다.\n"
          ]
        }
      ]
    },
    {
      "cell_type": "code",
      "source": [
        "strData='1234'\n",
        "intData=int(strData)\n",
        "print(f'intData{intData} 자료형은 {type(intData)}입니다.')"
      ],
      "metadata": {
        "colab": {
          "base_uri": "https://localhost:8080/"
        },
        "id": "mhXOL_JHmPc5",
        "outputId": "7c824101-9e29-443a-d2e8-d87a2e2edaee"
      },
      "execution_count": null,
      "outputs": [
        {
          "output_type": "stream",
          "name": "stdout",
          "text": [
            "intData1234 자료형은 <class 'int'>입니다.\n"
          ]
        }
      ]
    },
    {
      "cell_type": "code",
      "source": [
        "strData='1234.5'\n",
        "intData=int(strData)"
      ],
      "metadata": {
        "colab": {
          "base_uri": "https://localhost:8080/",
          "height": 168
        },
        "id": "YPfL2h4YmZZ4",
        "outputId": "a111544a-5632-4050-91c1-6852e179d4ec"
      },
      "execution_count": null,
      "outputs": [
        {
          "output_type": "error",
          "ename": "ValueError",
          "evalue": "invalid literal for int() with base 10: '1234.5'",
          "traceback": [
            "\u001b[0;31m---------------------------------------------------------------------------\u001b[0m",
            "\u001b[0;31mValueError\u001b[0m                                Traceback (most recent call last)",
            "\u001b[0;32m/tmp/ipython-input-2066714721.py\u001b[0m in \u001b[0;36m<cell line: 0>\u001b[0;34m()\u001b[0m\n\u001b[1;32m      1\u001b[0m \u001b[0mstrData\u001b[0m\u001b[0;34m=\u001b[0m\u001b[0;34m'1234.5'\u001b[0m\u001b[0;34m\u001b[0m\u001b[0;34m\u001b[0m\u001b[0m\n\u001b[0;32m----> 2\u001b[0;31m \u001b[0mintData\u001b[0m\u001b[0;34m=\u001b[0m\u001b[0mint\u001b[0m\u001b[0;34m(\u001b[0m\u001b[0mstrData\u001b[0m\u001b[0;34m)\u001b[0m\u001b[0;34m\u001b[0m\u001b[0;34m\u001b[0m\u001b[0m\n\u001b[0m",
            "\u001b[0;31mValueError\u001b[0m: invalid literal for int() with base 10: '1234.5'"
          ]
        }
      ]
    },
    {
      "cell_type": "code",
      "source": [
        "strData='1234.5'\n",
        "floatData=float(strData)\n",
        "print(f'floatData{floatData} 자료형은 {type(floatData)}입니다.')"
      ],
      "metadata": {
        "colab": {
          "base_uri": "https://localhost:8080/"
        },
        "id": "wUn8X_mimjuM",
        "outputId": "511d5ec5-6b7b-4d55-e222-506132bc869a"
      },
      "execution_count": null,
      "outputs": [
        {
          "output_type": "stream",
          "name": "stdout",
          "text": [
            "floatData1234.5 자료형은 <class 'float'>입니다.\n"
          ]
        }
      ]
    },
    {
      "cell_type": "code",
      "source": [
        "print(float('2E5'))\n",
        "print(float('2e-3'))"
      ],
      "metadata": {
        "colab": {
          "base_uri": "https://localhost:8080/"
        },
        "id": "6Dq3GKIfmxY3",
        "outputId": "076c49ed-52dc-4bd5-e4e1-a113a0df6994"
      },
      "execution_count": null,
      "outputs": [
        {
          "output_type": "stream",
          "name": "stdout",
          "text": [
            "200000.0\n",
            "0.002\n"
          ]
        }
      ]
    },
    {
      "cell_type": "code",
      "source": [
        "intData=1234;strData1=str(intData)\n",
        "floatData1=1234.5;strData2=str(floatData1)\n",
        "floatData2=1e-3;strData3=str(floatData2)\n",
        "print(f'정수{intData}=>문자열{strData1},{type(strData1)}')\n",
        "print(f'실수{floatData1}=>문자열{strData2},{type(strData2)}')\n",
        "print(f'실수{floatData2}=>문자열{strData3},{type(strData3)}')"
      ],
      "metadata": {
        "colab": {
          "base_uri": "https://localhost:8080/"
        },
        "id": "29bgYs7zm4F7",
        "outputId": "a3076252-0804-422b-fb7c-6f3c044e8055"
      },
      "execution_count": null,
      "outputs": [
        {
          "output_type": "stream",
          "name": "stdout",
          "text": [
            "정수1234=>문자열1234,<class 'str'>\n",
            "실수1234.5=>문자열1234.5,<class 'str'>\n",
            "실수0.001=>문자열0.001,<class 'str'>\n"
          ]
        }
      ]
    }
  ]
}