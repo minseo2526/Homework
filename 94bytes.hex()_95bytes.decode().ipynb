{
  "nbformat": 4,
  "nbformat_minor": 0,
  "metadata": {
    "colab": {
      "name": "CodeCells_Basic_.ipynb",
      "provenance": [],
      "toc_visible": true,
      "include_colab_link": true
    },
    "kernelspec": {
      "name": "python3",
      "display_name": "Python 3"
    },
    "language_info": {
      "name": "python"
    }
  },
  "cells": [
    {
      "cell_type": "markdown",
      "metadata": {
        "id": "view-in-github",
        "colab_type": "text"
      },
      "source": [
        "<a href=\"https://colab.research.google.com/github/minseo2526/Homework/blob/main/94bytes.hex()_95bytes.decode().ipynb\" target=\"_parent\"><img src=\"https://colab.research.google.com/assets/colab-badge.svg\" alt=\"Open In Colab\"/></a>"
      ]
    },
    {
      "cell_type": "code",
      "source": [
        "hexData=b'Python\\xf8\\xfa'.hex()\n",
        "print(hexData)"
      ],
      "metadata": {
        "colab": {
          "base_uri": "https://localhost:8080/"
        },
        "id": "-HOd-14jTHV1",
        "outputId": "8ad4b2aa-4821-4487-afd0-aea0fabb136e"
      },
      "execution_count": null,
      "outputs": [
        {
          "output_type": "stream",
          "name": "stdout",
          "text": [
            "507974686f6ef8fa\n"
          ]
        }
      ]
    },
    {
      "cell_type": "code",
      "source": [
        "hexData=b'Python\\xf8\\xfa'.hex('-')\n",
        "print(hexData)"
      ],
      "metadata": {
        "colab": {
          "base_uri": "https://localhost:8080/"
        },
        "id": "QYoEHH25TSJc",
        "outputId": "a2ddbd9b-43b9-4801-bf9e-a421af3c296d"
      },
      "execution_count": null,
      "outputs": [
        {
          "output_type": "stream",
          "name": "stdout",
          "text": [
            "50-79-74-68-6f-6e-f8-fa\n"
          ]
        }
      ]
    },
    {
      "cell_type": "code",
      "source": [
        "hexData=b'Python\\xf8\\xfa'.hex('-',2)\n",
        "print(hexData)"
      ],
      "metadata": {
        "colab": {
          "base_uri": "https://localhost:8080/"
        },
        "id": "hF55zdOkTWtn",
        "outputId": "67ca1125-2d41-482f-cbc7-f01053a23338"
      },
      "execution_count": null,
      "outputs": [
        {
          "output_type": "stream",
          "name": "stdout",
          "text": [
            "5079-7468-6f6e-f8fa\n"
          ]
        }
      ]
    },
    {
      "cell_type": "code",
      "source": [
        "bytesData=b'\\xec\\x82\\xac\\xeb\\x9e\\x91\\xed\\x95\\xb4\\xec\\x9a\\x94'\n",
        "strData=bytesData.decode()\n",
        "print(strData)"
      ],
      "metadata": {
        "colab": {
          "base_uri": "https://localhost:8080/"
        },
        "id": "Nz3jKR5fTb9P",
        "outputId": "a05087da-e577-4cab-d8bc-0f081771f781"
      },
      "execution_count": null,
      "outputs": [
        {
          "output_type": "stream",
          "name": "stdout",
          "text": [
            "사랑해요\n"
          ]
        }
      ]
    },
    {
      "cell_type": "code",
      "source": [
        "bytesData=b'\\xbb\\xe7\\xb6\\xfb\\xc7\\xd8\\xbf\\xe4'\n",
        "strData=bytesData.decode()\n",
        "print(strData)"
      ],
      "metadata": {
        "colab": {
          "base_uri": "https://localhost:8080/",
          "height": 188
        },
        "id": "8fDfbmovT979",
        "outputId": "4b498973-b29d-4ecc-f67f-85aa0b51d718"
      },
      "execution_count": null,
      "outputs": [
        {
          "output_type": "error",
          "ename": "UnicodeDecodeError",
          "evalue": "'utf-8' codec can't decode byte 0xbb in position 0: invalid start byte",
          "traceback": [
            "\u001b[0;31m---------------------------------------------------------------------------\u001b[0m",
            "\u001b[0;31mUnicodeDecodeError\u001b[0m                        Traceback (most recent call last)",
            "\u001b[0;32m/tmp/ipython-input-3899556951.py\u001b[0m in \u001b[0;36m<cell line: 0>\u001b[0;34m()\u001b[0m\n\u001b[1;32m      1\u001b[0m \u001b[0mbytesData\u001b[0m\u001b[0;34m=\u001b[0m\u001b[0;34mb'\\xbb\\xe7\\xb6\\xfb\\xc7\\xd8\\xbf\\xe4'\u001b[0m\u001b[0;34m\u001b[0m\u001b[0;34m\u001b[0m\u001b[0m\n\u001b[0;32m----> 2\u001b[0;31m \u001b[0mstrData\u001b[0m\u001b[0;34m=\u001b[0m\u001b[0mbytesData\u001b[0m\u001b[0;34m.\u001b[0m\u001b[0mdecode\u001b[0m\u001b[0;34m(\u001b[0m\u001b[0;34m)\u001b[0m\u001b[0;34m\u001b[0m\u001b[0;34m\u001b[0m\u001b[0m\n\u001b[0m\u001b[1;32m      3\u001b[0m \u001b[0mprint\u001b[0m\u001b[0;34m(\u001b[0m\u001b[0mstrData\u001b[0m\u001b[0;34m)\u001b[0m\u001b[0;34m\u001b[0m\u001b[0;34m\u001b[0m\u001b[0m\n",
            "\u001b[0;31mUnicodeDecodeError\u001b[0m: 'utf-8' codec can't decode byte 0xbb in position 0: invalid start byte"
          ]
        }
      ]
    },
    {
      "cell_type": "code",
      "source": [
        "bytesData=b'\\xbb\\xe7\\xb6\\xfb\\xc7\\xd8\\xbf\\xe4'\n",
        "strData=bytesData.decode('cp949')\n",
        "print(strData)"
      ],
      "metadata": {
        "colab": {
          "base_uri": "https://localhost:8080/"
        },
        "id": "3rhvDndvUIVZ",
        "outputId": "59153ac9-eddb-423f-ce1a-27b08819af3b"
      },
      "execution_count": null,
      "outputs": [
        {
          "output_type": "stream",
          "name": "stdout",
          "text": [
            "사랑해요\n"
          ]
        }
      ]
    }
  ]
}