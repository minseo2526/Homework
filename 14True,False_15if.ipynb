{
  "nbformat": 4,
  "nbformat_minor": 0,
  "metadata": {
    "colab": {
      "name": "CodeCells_Basic_.ipynb",
      "provenance": [],
      "toc_visible": true,
      "include_colab_link": true
    },
    "kernelspec": {
      "name": "python3",
      "display_name": "Python 3"
    },
    "language_info": {
      "name": "python"
    }
  },
  "cells": [
    {
      "cell_type": "markdown",
      "metadata": {
        "id": "view-in-github",
        "colab_type": "text"
      },
      "source": [
        "<a href=\"https://colab.research.google.com/github/minseo2526/Homework/blob/main/14True%2CFalse_15if.ipynb\" target=\"_parent\"><img src=\"https://colab.research.google.com/assets/colab-badge.svg\" alt=\"Open In Colab\"/></a>"
      ]
    },
    {
      "cell_type": "code",
      "source": [
        "flag1=True\n",
        "flag2=False\n",
        "print(flag1==1)\n",
        "print(flag2!=0)"
      ],
      "metadata": {
        "colab": {
          "base_uri": "https://localhost:8080/"
        },
        "id": "oE511tPP_1Cn",
        "outputId": "b2fccfaf-1db1-4922-d6f7-ab96c25a351f"
      },
      "execution_count": null,
      "outputs": [
        {
          "output_type": "stream",
          "name": "stdout",
          "text": [
            "True\n",
            "False\n"
          ]
        }
      ]
    },
    {
      "cell_type": "code",
      "source": [
        "x=1\n",
        "y=2\n",
        "if x<y:\n",
        "  print('x가 y보다 작습니다')\n",
        "else:\n",
        "  print('x가 y보다 작지 않습니다')"
      ],
      "metadata": {
        "colab": {
          "base_uri": "https://localhost:8080/"
        },
        "id": "PG1H16CSBGZo",
        "outputId": "d6da0a2b-081b-43ae-d500-c190c650f594"
      },
      "execution_count": null,
      "outputs": [
        {
          "output_type": "stream",
          "name": "stdout",
          "text": [
            "x가 y보다 작습니다\n"
          ]
        }
      ]
    },
    {
      "cell_type": "code",
      "source": [
        "x=1\n",
        "y=2\n",
        "if x<y:\n",
        "  print('x가 y보다 작습니다')\n",
        "elif x>y:\n",
        "  print('x가 y보다 큽니다')\n",
        "else:\n",
        "  print('x와 y가 같습니다')"
      ],
      "metadata": {
        "colab": {
          "base_uri": "https://localhost:8080/"
        },
        "id": "xbY4ROLkBXwH",
        "outputId": "37d9c94b-c2e4-4f12-cf5f-b425c6acc8e5"
      },
      "execution_count": null,
      "outputs": [
        {
          "output_type": "stream",
          "name": "stdout",
          "text": [
            "x가 y보다 작습니다\n"
          ]
        }
      ]
    }
  ]
}