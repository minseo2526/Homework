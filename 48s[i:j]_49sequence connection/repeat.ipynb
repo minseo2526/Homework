{
  "nbformat": 4,
  "nbformat_minor": 0,
  "metadata": {
    "colab": {
      "name": "CodeCells_Basic_.ipynb",
      "provenance": [],
      "toc_visible": true,
      "include_colab_link": true
    },
    "kernelspec": {
      "name": "python3",
      "display_name": "Python 3"
    },
    "language_info": {
      "name": "python"
    }
  },
  "cells": [
    {
      "cell_type": "markdown",
      "metadata": {
        "id": "view-in-github",
        "colab_type": "text"
      },
      "source": [
        "<a href=\"https://colab.research.google.com/github/minseo2526/Homework/blob/main/48s%5Bi%3Aj%5D_49sequence%20connection/repeat.ipynb\" target=\"_parent\"><img src=\"https://colab.research.google.com/assets/colab-badge.svg\" alt=\"Open In Colab\"/></a>"
      ]
    },
    {
      "cell_type": "code",
      "source": [
        "wise_saying=\"Time is money! Don't waste your time!\"\n",
        "print(wise_saying[6:10])"
      ],
      "metadata": {
        "colab": {
          "base_uri": "https://localhost:8080/"
        },
        "id": "m0EF8et6PTJP",
        "outputId": "8324362d-8473-4c2c-fd2b-76ec1269a157"
      },
      "execution_count": null,
      "outputs": [
        {
          "output_type": "stream",
          "name": "stdout",
          "text": [
            "s mo\n"
          ]
        }
      ]
    },
    {
      "cell_type": "code",
      "source": [
        "print(wise_saying[:5])"
      ],
      "metadata": {
        "colab": {
          "base_uri": "https://localhost:8080/"
        },
        "id": "_i4BGKtwQ85L",
        "outputId": "1603525e-7940-4ba5-c7fc-a62fbe4bbe67"
      },
      "execution_count": null,
      "outputs": [
        {
          "output_type": "stream",
          "name": "stdout",
          "text": [
            "Time \n"
          ]
        }
      ]
    },
    {
      "cell_type": "code",
      "source": [
        "print(wise_saying[15:])"
      ],
      "metadata": {
        "colab": {
          "base_uri": "https://localhost:8080/"
        },
        "id": "_5HtXCdCRPuL",
        "outputId": "bd010b01-ffa7-4aa6-879d-9447817f4a6c"
      },
      "execution_count": null,
      "outputs": [
        {
          "output_type": "stream",
          "name": "stdout",
          "text": [
            "Don't waste your time!\n"
          ]
        }
      ]
    },
    {
      "cell_type": "code",
      "source": [
        "print(wise_saying[:-1])"
      ],
      "metadata": {
        "colab": {
          "base_uri": "https://localhost:8080/"
        },
        "id": "INWSvM4dRQcd",
        "outputId": "f879cfe6-9be1-48e7-ef41-d0f857f132d9"
      },
      "execution_count": null,
      "outputs": [
        {
          "output_type": "stream",
          "name": "stdout",
          "text": [
            "Time is money! Don't waste your time\n"
          ]
        }
      ]
    },
    {
      "cell_type": "code",
      "source": [
        "print(wise_saying[-5:])"
      ],
      "metadata": {
        "colab": {
          "base_uri": "https://localhost:8080/"
        },
        "id": "x7eDv593RRSu",
        "outputId": "87f26cfb-1404-4a93-cf5b-4e47ed5c61df"
      },
      "execution_count": null,
      "outputs": [
        {
          "output_type": "stream",
          "name": "stdout",
          "text": [
            "time!\n"
          ]
        }
      ]
    },
    {
      "cell_type": "code",
      "source": [
        "print(wise_saying[:])"
      ],
      "metadata": {
        "colab": {
          "base_uri": "https://localhost:8080/"
        },
        "id": "tfGKHTtJRSFr",
        "outputId": "3acd01a1-7804-47f9-8c9d-82dd6848cafc"
      },
      "execution_count": null,
      "outputs": [
        {
          "output_type": "stream",
          "name": "stdout",
          "text": [
            "Time is money! Don't waste your time!\n"
          ]
        }
      ]
    },
    {
      "cell_type": "code",
      "source": [
        "intList=[0,1,2,3,4,5,6,7,8,9]\n",
        "print(intList[::2])"
      ],
      "metadata": {
        "colab": {
          "base_uri": "https://localhost:8080/"
        },
        "id": "B6FD_WBbR5gr",
        "outputId": "0f132631-eb5f-4c00-932d-3849bbb12dcd"
      },
      "execution_count": null,
      "outputs": [
        {
          "output_type": "stream",
          "name": "stdout",
          "text": [
            "[0, 2, 4, 6, 8]\n"
          ]
        }
      ]
    },
    {
      "cell_type": "code",
      "source": [
        "print(intList[1::2])"
      ],
      "metadata": {
        "colab": {
          "base_uri": "https://localhost:8080/"
        },
        "id": "Wt9KLMGjSBAF",
        "outputId": "7d78d3dc-ba7b-452c-e265-f7a872cf008d"
      },
      "execution_count": null,
      "outputs": [
        {
          "output_type": "stream",
          "name": "stdout",
          "text": [
            "[1, 3, 5, 7, 9]\n"
          ]
        }
      ]
    },
    {
      "cell_type": "code",
      "source": [
        "url1='https://blog.naver.com/'\n",
        "url2='samsjang'\n",
        "print(url1+url2)"
      ],
      "metadata": {
        "colab": {
          "base_uri": "https://localhost:8080/"
        },
        "id": "vxE_MdY7SZNm",
        "outputId": "eaf6feb2-11a8-4532-c267-62b1e04b206c"
      },
      "execution_count": null,
      "outputs": [
        {
          "output_type": "stream",
          "name": "stdout",
          "text": [
            "https://blog.naver.com/samsjang\n"
          ]
        }
      ]
    },
    {
      "cell_type": "code",
      "source": [
        "list1=[0,1,2]\n",
        "list2=[3,4,5]\n",
        "print(list1+list2)"
      ],
      "metadata": {
        "colab": {
          "base_uri": "https://localhost:8080/"
        },
        "id": "4LOeJqg2S7yt",
        "outputId": "5838fbb7-6378-4452-9558-9de66a7b2bf9"
      },
      "execution_count": null,
      "outputs": [
        {
          "output_type": "stream",
          "name": "stdout",
          "text": [
            "[0, 1, 2, 3, 4, 5]\n"
          ]
        }
      ]
    },
    {
      "cell_type": "code",
      "source": [
        "print(list2+list1)"
      ],
      "metadata": {
        "colab": {
          "base_uri": "https://localhost:8080/"
        },
        "id": "4xCafGQLTFdD",
        "outputId": "28149169-a3d4-4e98-fd7f-06297d374934"
      },
      "execution_count": null,
      "outputs": [
        {
          "output_type": "stream",
          "name": "stdout",
          "text": [
            "[3, 4, 5, 0, 1, 2]\n"
          ]
        }
      ]
    },
    {
      "cell_type": "code",
      "source": [
        "listData=[0,1,2]\n",
        "strData='시퀀스 자료의 연결'\n",
        "print(listData+strData)"
      ],
      "metadata": {
        "colab": {
          "base_uri": "https://localhost:8080/",
          "height": 187
        },
        "id": "P-sIjAytTJhF",
        "outputId": "0a39d481-83cb-465a-a108-55927bc3ef9a"
      },
      "execution_count": null,
      "outputs": [
        {
          "output_type": "error",
          "ename": "TypeError",
          "evalue": "can only concatenate list (not \"str\") to list",
          "traceback": [
            "\u001b[0;31m---------------------------------------------------------------------------\u001b[0m",
            "\u001b[0;31mTypeError\u001b[0m                                 Traceback (most recent call last)",
            "\u001b[0;32m/tmp/ipython-input-854644582.py\u001b[0m in \u001b[0;36m<cell line: 0>\u001b[0;34m()\u001b[0m\n\u001b[1;32m      1\u001b[0m \u001b[0mlistData\u001b[0m\u001b[0;34m=\u001b[0m\u001b[0;34m[\u001b[0m\u001b[0;36m0\u001b[0m\u001b[0;34m,\u001b[0m\u001b[0;36m1\u001b[0m\u001b[0;34m,\u001b[0m\u001b[0;36m2\u001b[0m\u001b[0;34m]\u001b[0m\u001b[0;34m\u001b[0m\u001b[0;34m\u001b[0m\u001b[0m\n\u001b[1;32m      2\u001b[0m \u001b[0mstrData\u001b[0m\u001b[0;34m=\u001b[0m\u001b[0;34m'시퀀스 자료의 연결'\u001b[0m\u001b[0;34m\u001b[0m\u001b[0;34m\u001b[0m\u001b[0m\n\u001b[0;32m----> 3\u001b[0;31m \u001b[0mprint\u001b[0m\u001b[0;34m(\u001b[0m\u001b[0mlistData\u001b[0m\u001b[0;34m+\u001b[0m\u001b[0mstrData\u001b[0m\u001b[0;34m)\u001b[0m\u001b[0;34m\u001b[0m\u001b[0;34m\u001b[0m\u001b[0m\n\u001b[0m",
            "\u001b[0;31mTypeError\u001b[0m: can only concatenate list (not \"str\") to list"
          ]
        }
      ]
    }
  ]
}