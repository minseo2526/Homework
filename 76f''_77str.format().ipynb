{
  "nbformat": 4,
  "nbformat_minor": 0,
  "metadata": {
    "colab": {
      "name": "CodeCells_Basic_.ipynb",
      "provenance": [],
      "toc_visible": true,
      "include_colab_link": true
    },
    "kernelspec": {
      "name": "python3",
      "display_name": "Python 3"
    },
    "language_info": {
      "name": "python"
    }
  },
  "cells": [
    {
      "cell_type": "markdown",
      "metadata": {
        "id": "view-in-github",
        "colab_type": "text"
      },
      "source": [
        "<a href=\"https://colab.research.google.com/github/minseo2526/Homework/blob/main/76f''_77str.format().ipynb\" target=\"_parent\"><img src=\"https://colab.research.google.com/assets/colab-badge.svg\" alt=\"Open In Colab\"/></a>"
      ]
    },
    {
      "cell_type": "code",
      "source": [
        "title='원주율'\n",
        "pi=3.141592\n",
        "print(f'{title}의 근사값은 {pi}입니다.')"
      ],
      "metadata": {
        "colab": {
          "base_uri": "https://localhost:8080/"
        },
        "id": "KSzc1STmC_l6",
        "outputId": "a24f7527-f98b-4547-e5f3-9c9ddfb29dcc"
      },
      "execution_count": null,
      "outputs": [
        {
          "output_type": "stream",
          "name": "stdout",
          "text": [
            "원주율의 근사값은 3.141592입니다.\n"
          ]
        }
      ]
    },
    {
      "cell_type": "code",
      "source": [
        "print(f'{title}의 근사값은 {pi:.2f}입니다.')"
      ],
      "metadata": {
        "colab": {
          "base_uri": "https://localhost:8080/"
        },
        "id": "7zzlIsMCDNLa",
        "outputId": "351051ba-55ca-403c-b6c7-50a219b51a35"
      },
      "execution_count": null,
      "outputs": [
        {
          "output_type": "stream",
          "name": "stdout",
          "text": [
            "원주율의 근사값은 3.14입니다.\n"
          ]
        }
      ]
    },
    {
      "cell_type": "code",
      "source": [
        "city='서울'\n",
        "population=8789911\n",
        "print(f'{city}:{population:,d}명')"
      ],
      "metadata": {
        "colab": {
          "base_uri": "https://localhost:8080/"
        },
        "id": "XM1TvzzcDZTC",
        "outputId": "101cf6db-6c86-42fa-af75-61f0c48be81b"
      },
      "execution_count": null,
      "outputs": [
        {
          "output_type": "stream",
          "name": "stdout",
          "text": [
            "서울:8,789,911명\n"
          ]
        }
      ]
    },
    {
      "cell_type": "code",
      "source": [
        "print(f'{city}:{population=:,d}명')"
      ],
      "metadata": {
        "colab": {
          "base_uri": "https://localhost:8080/"
        },
        "id": "iJ8Np15SDtHl",
        "outputId": "ee911ca6-be60-4603-899a-687d91dc172f"
      },
      "execution_count": null,
      "outputs": [
        {
          "output_type": "stream",
          "name": "stdout",
          "text": [
            "서울:population=8,789,911명\n"
          ]
        }
      ]
    },
    {
      "cell_type": "code",
      "source": [
        "pi=3.141592\n",
        "text='{}의 근사값은 {}입니다.'.format('원주율',pi)\n",
        "print(text)"
      ],
      "metadata": {
        "colab": {
          "base_uri": "https://localhost:8080/"
        },
        "id": "g4ehshwuD7Gg",
        "outputId": "fc016cde-6dce-47ad-d62b-2154c279207e"
      },
      "execution_count": null,
      "outputs": [
        {
          "output_type": "stream",
          "name": "stdout",
          "text": [
            "원주율의 근사값은 3.141592입니다.\n"
          ]
        }
      ]
    },
    {
      "cell_type": "code",
      "source": [
        "print('{}의 근사값은 {}입니다.'.format('원주율',pi))"
      ],
      "metadata": {
        "colab": {
          "base_uri": "https://localhost:8080/"
        },
        "id": "kRIeX5E7ES0d",
        "outputId": "68797ca8-b1d2-46c6-b0c8-844a4f545e16"
      },
      "execution_count": null,
      "outputs": [
        {
          "output_type": "stream",
          "name": "stdout",
          "text": [
            "원주율의 근사값은 3.141592입니다.\n"
          ]
        }
      ]
    },
    {
      "cell_type": "code",
      "source": [
        "population=8789911\n",
        "text='{}:{:,d}명'.format('서울',population)\n",
        "print(text)"
      ],
      "metadata": {
        "colab": {
          "base_uri": "https://localhost:8080/"
        },
        "id": "Ha578LATEgbf",
        "outputId": "64a6da30-7da3-4613-ed9b-4af32afc8828"
      },
      "execution_count": null,
      "outputs": [
        {
          "output_type": "stream",
          "name": "stdout",
          "text": [
            "서울:8,789,911명\n"
          ]
        }
      ]
    }
  ]
}