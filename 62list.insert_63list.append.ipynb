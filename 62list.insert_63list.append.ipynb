{
  "nbformat": 4,
  "nbformat_minor": 0,
  "metadata": {
    "colab": {
      "name": "CodeCells_Basic_.ipynb",
      "provenance": [],
      "toc_visible": true,
      "include_colab_link": true
    },
    "kernelspec": {
      "name": "python3",
      "display_name": "Python 3"
    },
    "language_info": {
      "name": "python"
    }
  },
  "cells": [
    {
      "cell_type": "markdown",
      "metadata": {
        "id": "view-in-github",
        "colab_type": "text"
      },
      "source": [
        "<a href=\"https://colab.research.google.com/github/minseo2526/Homework/blob/main/62list.insert_63list.append.ipynb\" target=\"_parent\"><img src=\"https://colab.research.google.com/assets/colab-badge.svg\" alt=\"Open In Colab\"/></a>"
      ]
    },
    {
      "cell_type": "code",
      "source": [
        "outer_planets=['목성','천왕성','해왕성']\n",
        "pos=outer_planets.index('천왕성')\n",
        "outer_planets.insert(pos,'토성')\n",
        "print(outer_planets)"
      ],
      "metadata": {
        "colab": {
          "base_uri": "https://localhost:8080/"
        },
        "id": "FXF7m9Rh2mnj",
        "outputId": "663edbee-704d-4158-aff4-b75f03ff2415"
      },
      "execution_count": null,
      "outputs": [
        {
          "output_type": "stream",
          "name": "stdout",
          "text": [
            "['목성', '토성', '천왕성', '해왕성']\n"
          ]
        }
      ]
    },
    {
      "cell_type": "code",
      "source": [
        "outer_planets.insert(-1,'명왕성')\n",
        "print(outer_planets)"
      ],
      "metadata": {
        "colab": {
          "base_uri": "https://localhost:8080/"
        },
        "id": "kFUQeUEy27mV",
        "outputId": "cf67045b-6f09-4e15-98d6-b97a5a4e001d"
      },
      "execution_count": null,
      "outputs": [
        {
          "output_type": "stream",
          "name": "stdout",
          "text": [
            "['목성', '토성', '천왕성', '해왕성', '명왕성', '명왕성']\n"
          ]
        }
      ]
    },
    {
      "cell_type": "code",
      "source": [
        "outer_planets=['목성','토성','천왕성','해왕성']\n",
        "outer_planets.insert(len(outer_planets),'명왕성')\n",
        "print(outer_planets)"
      ],
      "metadata": {
        "colab": {
          "base_uri": "https://localhost:8080/"
        },
        "id": "oIY5QaOV3rNL",
        "outputId": "cbc5950e-e8fd-46a3-8dcf-b70333c617e8"
      },
      "execution_count": null,
      "outputs": [
        {
          "output_type": "stream",
          "name": "stdout",
          "text": [
            "['목성', '토성', '천왕성', '해왕성', '명왕성']\n"
          ]
        }
      ]
    },
    {
      "cell_type": "code",
      "source": [
        "fileList=[]\n",
        "for i in range(3):\n",
        "  fname=input(f'파일 이름을 입력하세요[{i+1}/3]:')\n",
        "  if fname not in fileList:\n",
        "    fileList.append(fname)\n",
        "  print(f'현재 저장된 파일들:{fileList}')"
      ],
      "metadata": {
        "colab": {
          "base_uri": "https://localhost:8080/"
        },
        "id": "1kGfLu2U4BEs",
        "outputId": "b397e7bd-105e-41e5-9ee8-6af48bb640e1"
      },
      "execution_count": null,
      "outputs": [
        {
          "output_type": "stream",
          "name": "stdout",
          "text": [
            "파일 이름을 입력하세요[1/3]:a.jpg\n",
            "현재 저장된 파일들:['a.jpg']\n",
            "파일 이름을 입력하세요[2/3]:b.jpg\n",
            "현재 저장된 파일들:['a.jpg', 'b.jpg']\n",
            "파일 이름을 입력하세요[3/3]:b.jpg\n",
            "현재 저장된 파일들:['a.jpg', 'b.jpg']\n"
          ]
        }
      ]
    }
  ]
}