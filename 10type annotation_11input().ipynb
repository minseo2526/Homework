{
  "nbformat": 4,
  "nbformat_minor": 0,
  "metadata": {
    "colab": {
      "name": "CodeCells_Basic_.ipynb",
      "provenance": [],
      "toc_visible": true,
      "include_colab_link": true
    },
    "kernelspec": {
      "name": "python3",
      "display_name": "Python 3"
    },
    "language_info": {
      "name": "python"
    }
  },
  "cells": [
    {
      "cell_type": "markdown",
      "metadata": {
        "id": "view-in-github",
        "colab_type": "text"
      },
      "source": [
        "<a href=\"https://colab.research.google.com/github/minseo2526/Homework/blob/main/10type%20annotation_11input().ipynb\" target=\"_parent\"><img src=\"https://colab.research.google.com/assets/colab-badge.svg\" alt=\"Open In Colab\"/></a>"
      ]
    },
    {
      "cell_type": "code",
      "source": [
        "name='홍길동'\n",
        "age=17\n",
        "weight=70.7\n",
        "is_badman=False"
      ],
      "metadata": {
        "id": "-e7WjniM5IOM"
      },
      "execution_count": null,
      "outputs": []
    },
    {
      "cell_type": "code",
      "source": [
        "name:str='홍길동'\n",
        "age:int=17\n",
        "weight:float=70.7\n",
        "is_badman:bool=False"
      ],
      "metadata": {
        "id": "Xp8sFqq25SEz"
      },
      "execution_count": null,
      "outputs": []
    },
    {
      "cell_type": "code",
      "source": [
        "booklist:list[str]=['삼국지','수호지','초한지']"
      ],
      "metadata": {
        "id": "MDh_VoRP5d5F"
      },
      "execution_count": null,
      "outputs": []
    },
    {
      "cell_type": "code",
      "source": [
        "island:tuple[str,float,float]=('독도',131.52,37.14)"
      ],
      "metadata": {
        "id": "2OF_S0Ry5mNk"
      },
      "execution_count": null,
      "outputs": []
    },
    {
      "cell_type": "code",
      "source": [
        "top4_familyname:dict[str,int]={'김씨':123456,'나씨':345811,'박씨':963123,'이씨':865909}"
      ],
      "metadata": {
        "id": "Sov_vLKs5wTU"
      },
      "execution_count": null,
      "outputs": []
    },
    {
      "cell_type": "code",
      "source": [
        "fruits:set[str]={'사과','배','수박','참외','딸기'}"
      ],
      "metadata": {
        "id": "pzPo9mag6Fj-"
      },
      "execution_count": null,
      "outputs": []
    },
    {
      "cell_type": "code",
      "source": [
        "print(__annotations__)"
      ],
      "metadata": {
        "colab": {
          "base_uri": "https://localhost:8080/"
        },
        "id": "cfTwO_RT6R6p",
        "outputId": "fa061110-17bc-4946-d8c8-07f8a23b7b47"
      },
      "execution_count": null,
      "outputs": [
        {
          "output_type": "stream",
          "name": "stdout",
          "text": [
            "{'name': <class 'str'>, 'age': <class 'int'>, 'weight': <class 'float'>, 'is_badman': <class 'bool'>, 'booklist': list[str], 'island': tuple[str, float, float], 'top4_familyname': dict[str, int], 'fruits': set[str]}\n"
          ]
        }
      ]
    },
    {
      "cell_type": "code",
      "source": [
        "fruits:set[str]={'사과','배','수박','참외','딸기'}\n",
        "fruits={1,2,3,4,5}\n",
        "print(fruits)"
      ],
      "metadata": {
        "colab": {
          "base_uri": "https://localhost:8080/"
        },
        "id": "IUB-tNDJ7bNh",
        "outputId": "2601ce0c-0d22-430b-f130-d9552f3080b2"
      },
      "execution_count": null,
      "outputs": [
        {
          "output_type": "stream",
          "name": "stdout",
          "text": [
            "{1, 2, 3, 4, 5}\n"
          ]
        }
      ]
    },
    {
      "cell_type": "code",
      "source": [
        "userInput=input()\n",
        "print('사용자가 입력한 값은<'+userInput+'>입니다.')"
      ],
      "metadata": {
        "colab": {
          "base_uri": "https://localhost:8080/"
        },
        "id": "VDzXJiji9TtO",
        "outputId": "01b890b9-2e6a-43c5-fb86-2aacc71a74a3"
      },
      "execution_count": null,
      "outputs": [
        {
          "output_type": "stream",
          "name": "stdout",
          "text": [
            "10\n",
            "사용자가 입력한 값은<10>입니다.\n"
          ]
        }
      ]
    },
    {
      "cell_type": "code",
      "source": [
        "userInput=input('값을 입력하세요:')\n",
        "print('사용자가 입력한 값은<'+userInput+'>입니다.')"
      ],
      "metadata": {
        "colab": {
          "base_uri": "https://localhost:8080/"
        },
        "id": "dfMZqDEn9v_V",
        "outputId": "0981cb28-0ecf-4cfd-d450-aa92a78f6abe"
      },
      "execution_count": null,
      "outputs": [
        {
          "output_type": "stream",
          "name": "stdout",
          "text": [
            "값을 입력하세요:yes\n",
            "사용자가 입력한 값은<yes>입니다.\n"
          ]
        }
      ]
    }
  ]
}