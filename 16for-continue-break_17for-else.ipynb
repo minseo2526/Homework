{
  "nbformat": 4,
  "nbformat_minor": 0,
  "metadata": {
    "colab": {
      "name": "CodeCells_Basic_.ipynb",
      "provenance": [],
      "toc_visible": true,
      "include_colab_link": true
    },
    "kernelspec": {
      "name": "python3",
      "display_name": "Python 3"
    },
    "language_info": {
      "name": "python"
    }
  },
  "cells": [
    {
      "cell_type": "markdown",
      "metadata": {
        "id": "view-in-github",
        "colab_type": "text"
      },
      "source": [
        "<a href=\"https://colab.research.google.com/github/minseo2526/Homework/blob/main/16for-continue-break_17for-else.ipynb\" target=\"_parent\"><img src=\"https://colab.research.google.com/assets/colab-badge.svg\" alt=\"Open In Colab\"/></a>"
      ]
    },
    {
      "cell_type": "code",
      "source": [
        "strData='abcdef'\n",
        "for c in strData:\n",
        "  print(c,end='-')\n"
      ],
      "metadata": {
        "colab": {
          "base_uri": "https://localhost:8080/"
        },
        "id": "YcLyWLK1CuSO",
        "outputId": "47cf5035-432d-47f0-959d-c5e39676f448"
      },
      "execution_count": null,
      "outputs": [
        {
          "output_type": "stream",
          "name": "stdout",
          "text": [
            "a-b-c-d-e-f-"
          ]
        }
      ]
    },
    {
      "cell_type": "code",
      "source": [
        "listData=[1,2,3,4,5]\n",
        "for idx in listData:\n",
        "  print(idx,end='-')"
      ],
      "metadata": {
        "colab": {
          "base_uri": "https://localhost:8080/"
        },
        "id": "KNaNMduSC5Wz",
        "outputId": "fede6455-bcfd-4e07-9e8f-81fa6b16f736"
      },
      "execution_count": null,
      "outputs": [
        {
          "output_type": "stream",
          "name": "stdout",
          "text": [
            "1-2-3-4-5-"
          ]
        }
      ]
    },
    {
      "cell_type": "code",
      "source": [
        "ascii_codes={'a':97,'b':98,'c':99}\n",
        "for code in ascii_codes.items():\n",
        "  print(code)"
      ],
      "metadata": {
        "colab": {
          "base_uri": "https://localhost:8080/"
        },
        "id": "b5Chw0CRDM-c",
        "outputId": "2cb725d8-8bfd-4696-9468-5a08358e6db3"
      },
      "execution_count": null,
      "outputs": [
        {
          "output_type": "stream",
          "name": "stdout",
          "text": [
            "('a', 97)\n",
            "('b', 98)\n",
            "('c', 99)\n"
          ]
        }
      ]
    },
    {
      "cell_type": "code",
      "source": [
        "for i in range(10):\n",
        "  print(i,end='#')"
      ],
      "metadata": {
        "colab": {
          "base_uri": "https://localhost:8080/"
        },
        "id": "wbiDax0JDou_",
        "outputId": "6ecb99f7-202b-49c8-8325-f28eb6591db8"
      },
      "execution_count": null,
      "outputs": [
        {
          "output_type": "stream",
          "name": "stdout",
          "text": [
            "0#1#2#3#4#5#6#7#8#9#"
          ]
        }
      ]
    },
    {
      "cell_type": "code",
      "source": [
        "for i in [1,2,3,4,5]:\n",
        "  print(i)\n",
        "  if i<2:\n",
        "    continue\n",
        "  else:\n",
        "    break"
      ],
      "metadata": {
        "colab": {
          "base_uri": "https://localhost:8080/"
        },
        "id": "sx7Fyc95DxeE",
        "outputId": "cd31fbde-5eba-4649-be34-d23cab368740"
      },
      "execution_count": null,
      "outputs": [
        {
          "output_type": "stream",
          "name": "stdout",
          "text": [
            "1\n",
            "2\n"
          ]
        }
      ]
    },
    {
      "cell_type": "code",
      "source": [
        "for i in [1,2,3,4,5]:\n",
        "  print(i)\n",
        "  if i==2:\n",
        "    break"
      ],
      "metadata": {
        "colab": {
          "base_uri": "https://localhost:8080/"
        },
        "id": "u2YlqFVKD8UM",
        "outputId": "5a4f8192-8c61-4db5-dfbd-cf2176964154"
      },
      "execution_count": null,
      "outputs": [
        {
          "output_type": "stream",
          "name": "stdout",
          "text": [
            "1\n",
            "2\n"
          ]
        }
      ]
    },
    {
      "cell_type": "code",
      "source": [
        "for x in [1,2,3]:\n",
        "  print(x)\n",
        "  if x>1:\n",
        "    break\n",
        "else:\n",
        "  print('Perfect!')"
      ],
      "metadata": {
        "colab": {
          "base_uri": "https://localhost:8080/"
        },
        "id": "PBjyUm9qEBwK",
        "outputId": "e2b0c7f0-7147-4b2e-9a35-c762beaed9be"
      },
      "execution_count": null,
      "outputs": [
        {
          "output_type": "stream",
          "name": "stdout",
          "text": [
            "1\n",
            "2\n"
          ]
        }
      ]
    }
  ]
}