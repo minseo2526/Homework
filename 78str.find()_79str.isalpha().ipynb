{
  "nbformat": 4,
  "nbformat_minor": 0,
  "metadata": {
    "colab": {
      "name": "CodeCells_Basic_.ipynb",
      "provenance": [],
      "toc_visible": true,
      "include_colab_link": true
    },
    "kernelspec": {
      "name": "python3",
      "display_name": "Python 3"
    },
    "language_info": {
      "name": "python"
    }
  },
  "cells": [
    {
      "cell_type": "markdown",
      "metadata": {
        "id": "view-in-github",
        "colab_type": "text"
      },
      "source": [
        "<a href=\"https://colab.research.google.com/github/minseo2526/Homework/blob/main/78str.find()_79str.isalpha().ipynb\" target=\"_parent\"><img src=\"https://colab.research.google.com/assets/colab-badge.svg\" alt=\"Open In Colab\"/></a>"
      ]
    },
    {
      "cell_type": "code",
      "source": [
        "sample='A lot of things occur each day,it\\'s very dynamical every day.'\n",
        "pos=sample.find('day')\n",
        "print(pos)"
      ],
      "metadata": {
        "colab": {
          "base_uri": "https://localhost:8080/"
        },
        "id": "fRV6pioyfWwK",
        "outputId": "195fa4b2-c5f3-421f-fe97-a571caeb4cbe"
      },
      "execution_count": null,
      "outputs": [
        {
          "output_type": "stream",
          "name": "stdout",
          "text": [
            "27\n"
          ]
        }
      ]
    },
    {
      "cell_type": "code",
      "source": [
        "spos=0\n",
        "idx=0\n",
        "count=1\n",
        "while idx!=-1:\n",
        "  idx=sample.find('day',spos)\n",
        "  print(f'\"day\"가 발견된 [{count}]번째 인덱스 {idx}')\n",
        "  spos=idx+1\n",
        "  count+=1"
      ],
      "metadata": {
        "colab": {
          "base_uri": "https://localhost:8080/"
        },
        "id": "CxqjSmZggw0f",
        "outputId": "f344deb2-e19b-4fd3-8c58-ce0878d75557"
      },
      "execution_count": null,
      "outputs": [
        {
          "output_type": "stream",
          "name": "stdout",
          "text": [
            "\"day\"가 발견된 [1]번째 인덱스 27\n",
            "\"day\"가 발견된 [2]번째 인덱스 57\n",
            "\"day\"가 발견된 [3]번째 인덱스 -1\n"
          ]
        }
      ]
    },
    {
      "cell_type": "code",
      "source": [
        "strList=['Hello','오징어게임','파이썬lover','안녕!','제3세계']"
      ],
      "metadata": {
        "id": "QfSp7pnegVq3"
      },
      "execution_count": null,
      "outputs": []
    },
    {
      "cell_type": "code",
      "source": [
        "for text in strList:\n",
        "  print(f'\"{text}\"\\t--> {text.isalpha()}')"
      ],
      "metadata": {
        "colab": {
          "base_uri": "https://localhost:8080/"
        },
        "id": "YBu6-V1wg_lv",
        "outputId": "11d89dfe-56f9-419a-b372-f9ecaec72761"
      },
      "execution_count": null,
      "outputs": [
        {
          "output_type": "stream",
          "name": "stdout",
          "text": [
            "\"Hello\"\t--> True\n",
            "\"오징어게임\"\t--> True\n",
            "\"파이썬lover\"\t--> True\n",
            "\"안녕!\"\t--> False\n",
            "\"제3세계\"\t--> False\n"
          ]
        }
      ]
    }
  ]
}