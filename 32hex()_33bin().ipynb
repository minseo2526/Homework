{
  "nbformat": 4,
  "nbformat_minor": 0,
  "metadata": {
    "colab": {
      "name": "CodeCells_Basic_.ipynb",
      "provenance": [],
      "toc_visible": true,
      "include_colab_link": true
    },
    "kernelspec": {
      "name": "python3",
      "display_name": "Python 3"
    },
    "language_info": {
      "name": "python"
    }
  },
  "cells": [
    {
      "cell_type": "markdown",
      "metadata": {
        "id": "view-in-github",
        "colab_type": "text"
      },
      "source": [
        "<a href=\"https://colab.research.google.com/github/minseo2526/Homework/blob/main/32hex()_33bin().ipynb\" target=\"_parent\"><img src=\"https://colab.research.google.com/assets/colab-badge.svg\" alt=\"Open In Colab\"/></a>"
      ]
    },
    {
      "cell_type": "code",
      "source": [
        "h1=hex(97)\n",
        "h2=hex(98)\n",
        "print(h1)\n",
        "print(h2)"
      ],
      "metadata": {
        "colab": {
          "base_uri": "https://localhost:8080/"
        },
        "id": "TiihsalZsB-9",
        "outputId": "00eac5e1-52f4-48cf-9c76-30b3a04460a2"
      },
      "execution_count": null,
      "outputs": [
        {
          "output_type": "stream",
          "name": "stdout",
          "text": [
            "0x61\n",
            "0x62\n"
          ]
        }
      ]
    },
    {
      "cell_type": "code",
      "source": [
        "print(h1+h2)"
      ],
      "metadata": {
        "colab": {
          "base_uri": "https://localhost:8080/"
        },
        "id": "GpRfQiqzsLjH",
        "outputId": "ddeb4115-42ef-48ee-b9d4-3e01e3ab6cb7"
      },
      "execution_count": null,
      "outputs": [
        {
          "output_type": "stream",
          "name": "stdout",
          "text": [
            "0x610x62\n"
          ]
        }
      ]
    },
    {
      "cell_type": "code",
      "source": [
        "hexStr1='0x11'\n",
        "hexStr2='0x2a'\n",
        "int1=int(hexStr1,base=16)\n",
        "int2=int(hexStr2,base=16)\n",
        "hexAnswer=hex(int1+int2)\n",
        "print(f'{hexStr1}+{hexStr2}={hexAnswer}')"
      ],
      "metadata": {
        "colab": {
          "base_uri": "https://localhost:8080/"
        },
        "id": "TH1qm-5YsSPg",
        "outputId": "ada61272-9817-4fe0-a443-666c951cd980"
      },
      "execution_count": null,
      "outputs": [
        {
          "output_type": "stream",
          "name": "stdout",
          "text": [
            "0x11+0x2a=0x3b\n"
          ]
        }
      ]
    },
    {
      "cell_type": "code",
      "source": [
        "b1=bin(97)\n",
        "b2=bin(98)\n",
        "print(b1)\n",
        "print(b2)"
      ],
      "metadata": {
        "colab": {
          "base_uri": "https://localhost:8080/"
        },
        "id": "mD1B0cIKs3PU",
        "outputId": "d0117cc9-4d14-4957-ce72-233ee0df70e0"
      },
      "execution_count": null,
      "outputs": [
        {
          "output_type": "stream",
          "name": "stdout",
          "text": [
            "0b1100001\n",
            "0b1100010\n"
          ]
        }
      ]
    },
    {
      "cell_type": "code",
      "source": [
        "print(b1+b2)"
      ],
      "metadata": {
        "colab": {
          "base_uri": "https://localhost:8080/"
        },
        "id": "tHZ_67zos_ju",
        "outputId": "48cf384c-a032-4375-f3bb-9b4d2b4f4634"
      },
      "execution_count": null,
      "outputs": [
        {
          "output_type": "stream",
          "name": "stdout",
          "text": [
            "0b11000010b1100010\n"
          ]
        }
      ]
    },
    {
      "cell_type": "code",
      "source": [
        "binStr1='0b1011'\n",
        "binStr2='0b1001'\n",
        "int1=int(binStr1,base=2)\n",
        "int2=int(binStr2,base=2)\n",
        "binAnswer=bin(int1+int2)\n",
        "print(f'{binStr1}+{binStr2}={binAnswer}')"
      ],
      "metadata": {
        "colab": {
          "base_uri": "https://localhost:8080/"
        },
        "id": "Bi-dU9zStB4k",
        "outputId": "aaae438b-a4a2-4ae6-d907-26329ebceae4"
      },
      "execution_count": null,
      "outputs": [
        {
          "output_type": "stream",
          "name": "stdout",
          "text": [
            "0b1011+0b1001=0b10100\n"
          ]
        }
      ]
    }
  ]
}