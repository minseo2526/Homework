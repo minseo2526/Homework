{
  "nbformat": 4,
  "nbformat_minor": 0,
  "metadata": {
    "colab": {
      "name": "CodeCells_Basic_.ipynb",
      "provenance": [],
      "toc_visible": true,
      "include_colab_link": true
    },
    "kernelspec": {
      "name": "python3",
      "display_name": "Python 3"
    },
    "language_info": {
      "name": "python"
    }
  },
  "cells": [
    {
      "cell_type": "markdown",
      "metadata": {
        "id": "view-in-github",
        "colab_type": "text"
      },
      "source": [
        "<a href=\"https://colab.research.google.com/github/minseo2526/Homework/blob/main/84str.replace()_85str.zfill().ipynb\" target=\"_parent\"><img src=\"https://colab.research.google.com/assets/colab-badge.svg\" alt=\"Open In Colab\"/></a>"
      ]
    },
    {
      "cell_type": "code",
      "source": [
        "text='문자열:파이썬에서 시퀀스 자료 중 하나임'\n",
        "ret=text.replace('문자열','텍스트')\n",
        "print(ret)"
      ],
      "metadata": {
        "colab": {
          "base_uri": "https://localhost:8080/"
        },
        "id": "w77sEGzdM0kR",
        "outputId": "8a5b0187-d98d-4bb6-d103-307fba4b3fa8"
      },
      "execution_count": null,
      "outputs": [
        {
          "output_type": "stream",
          "name": "stdout",
          "text": [
            "텍스트:파이썬에서 시퀀스 자료 중 하나임\n"
          ]
        }
      ]
    },
    {
      "cell_type": "code",
      "source": [
        "text='매일 많은 일들이 일어납니다.'\n",
        "ret=text.replace('일','사건')\n",
        "print(ret)"
      ],
      "metadata": {
        "colab": {
          "base_uri": "https://localhost:8080/"
        },
        "id": "DVfLcj35M_Vg",
        "outputId": "2c502be1-6f0c-447b-f0f8-0d061da59496"
      },
      "execution_count": null,
      "outputs": [
        {
          "output_type": "stream",
          "name": "stdout",
          "text": [
            "매사건 많은 사건들이 사건어납니다.\n"
          ]
        }
      ]
    },
    {
      "cell_type": "code",
      "source": [
        "numData=['5','27','342','1004']\n",
        "for numstr in numData:\n",
        "  ret=numstr.zfill(4)\n",
        "  print(ret)"
      ],
      "metadata": {
        "colab": {
          "base_uri": "https://localhost:8080/"
        },
        "id": "vQfYHeF1NOEf",
        "outputId": "a0538563-4e20-4b8d-ca49-1767f35dfc95"
      },
      "execution_count": null,
      "outputs": [
        {
          "output_type": "stream",
          "name": "stdout",
          "text": [
            "0005\n",
            "0027\n",
            "0342\n",
            "1004\n"
          ]
        }
      ]
    },
    {
      "cell_type": "code",
      "source": [
        "numData=['-5','-27','-342','-1004']\n",
        "for numstr in numData:\n",
        "  ret=numstr.zfill(4)\n",
        "  print(ret)"
      ],
      "metadata": {
        "colab": {
          "base_uri": "https://localhost:8080/"
        },
        "id": "Qq4XtBKdNe_4",
        "outputId": "0aa28427-6232-4416-ced9-10cc04ffe19f"
      },
      "execution_count": null,
      "outputs": [
        {
          "output_type": "stream",
          "name": "stdout",
          "text": [
            "-005\n",
            "-027\n",
            "-342\n",
            "-1004\n"
          ]
        }
      ]
    }
  ]
}