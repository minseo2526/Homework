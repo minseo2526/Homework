{
  "nbformat": 4,
  "nbformat_minor": 0,
  "metadata": {
    "colab": {
      "name": "CodeCells_Basic_.ipynb",
      "provenance": [],
      "toc_visible": true,
      "include_colab_link": true
    },
    "kernelspec": {
      "name": "python3",
      "display_name": "Python 3"
    },
    "language_info": {
      "name": "python"
    }
  },
  "cells": [
    {
      "cell_type": "markdown",
      "metadata": {
        "id": "view-in-github",
        "colab_type": "text"
      },
      "source": [
        "<a href=\"https://colab.research.google.com/github/minseo2526/Homework/blob/main/82str.split()_83remove%20str/space.ipynb\" target=\"_parent\"><img src=\"https://colab.research.google.com/assets/colab-badge.svg\" alt=\"Open In Colab\"/></a>"
      ]
    },
    {
      "cell_type": "code",
      "source": [
        "logData='홍길동;남자;18세;도적;초능력자'\n",
        "profile=logData.split(';')\n",
        "print(profile)"
      ],
      "metadata": {
        "colab": {
          "base_uri": "https://localhost:8080/"
        },
        "id": "DO3oSxcULAv3",
        "outputId": "a697fb16-206d-4aca-ada6-5012d25a2605"
      },
      "execution_count": null,
      "outputs": [
        {
          "output_type": "stream",
          "name": "stdout",
          "text": [
            "['홍길동', '남자', '18세', '도적', '초능력자']\n"
          ]
        }
      ]
    },
    {
      "cell_type": "code",
      "source": [
        "text='나는 파이썬을 사랑합니다.'\n",
        "print(text.split())"
      ],
      "metadata": {
        "colab": {
          "base_uri": "https://localhost:8080/"
        },
        "id": "m76yLqUWLMs_",
        "outputId": "1f34177e-18c1-440a-badb-595de3f8cce2"
      },
      "execution_count": null,
      "outputs": [
        {
          "output_type": "stream",
          "name": "stdout",
          "text": [
            "['나는', '파이썬을', '사랑합니다.']\n"
          ]
        }
      ]
    },
    {
      "cell_type": "code",
      "source": [
        "profile='이름:홍길동 나이:18세 성별:남자 국적:조선 직업:도적 특기:초능력자'\n",
        "for data in profile.split():\n",
        "  key,val=data.split(':')\n",
        "  print(f'{key}-->{val}')"
      ],
      "metadata": {
        "colab": {
          "base_uri": "https://localhost:8080/"
        },
        "id": "2OgMDjwnLZXT",
        "outputId": "9d2807ae-6803-46b3-a6bf-056c108d39bb"
      },
      "execution_count": null,
      "outputs": [
        {
          "output_type": "stream",
          "name": "stdout",
          "text": [
            "이름-->홍길동\n",
            "나이-->18세\n",
            "성별-->남자\n",
            "국적-->조선\n",
            "직업-->도적\n",
            "특기-->초능력자\n"
          ]
        }
      ]
    },
    {
      "cell_type": "code",
      "source": [
        "text=' 이 문자의 양쪽에는 공백이 있습니다. '\n",
        "print(f'<{text.strip()}>')\n",
        "print(f'<{text.lstrip()}>')\n",
        "print(f'<{text.rstrip()}>')"
      ],
      "metadata": {
        "colab": {
          "base_uri": "https://localhost:8080/"
        },
        "id": "PaKM6losL2ma",
        "outputId": "5a29b341-ff7f-4bd5-e380-0878aebebc61"
      },
      "execution_count": null,
      "outputs": [
        {
          "output_type": "stream",
          "name": "stdout",
          "text": [
            "<이 문자의 양쪽에는 공백이 있습니다.>\n",
            "<이 문자의 양쪽에는 공백이 있습니다. >\n",
            "< 이 문자의 양쪽에는 공백이 있습니다.>\n"
          ]
        }
      ]
    },
    {
      "cell_type": "code",
      "source": [
        "url='www.python.com'\n",
        "print(url.strip('cmow.'))"
      ],
      "metadata": {
        "colab": {
          "base_uri": "https://localhost:8080/"
        },
        "id": "9GNu3lJWMKqo",
        "outputId": "2ad6e352-cd5c-477d-ae7d-f407f0df48b2"
      },
      "execution_count": null,
      "outputs": [
        {
          "output_type": "stream",
          "name": "stdout",
          "text": [
            "python\n"
          ]
        }
      ]
    },
    {
      "cell_type": "code",
      "source": [
        "print(url.lstrip('cmow.'))\n",
        "print(url.rstrip('cmow.'))"
      ],
      "metadata": {
        "colab": {
          "base_uri": "https://localhost:8080/"
        },
        "id": "o5XPMdauMSAF",
        "outputId": "909bd354-5f5c-48f8-d9d8-68bad5865c74"
      },
      "execution_count": null,
      "outputs": [
        {
          "output_type": "stream",
          "name": "stdout",
          "text": [
            "python.com\n",
            "www.python\n"
          ]
        }
      ]
    },
    {
      "cell_type": "code",
      "source": [],
      "metadata": {
        "id": "X97J01p_MbkB"
      },
      "execution_count": null,
      "outputs": []
    }
  ]
}