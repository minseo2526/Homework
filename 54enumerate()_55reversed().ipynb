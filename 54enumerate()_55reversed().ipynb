{
  "nbformat": 4,
  "nbformat_minor": 0,
  "metadata": {
    "colab": {
      "name": "CodeCells_Basic_.ipynb",
      "provenance": [],
      "toc_visible": true,
      "include_colab_link": true
    },
    "kernelspec": {
      "name": "python3",
      "display_name": "Python 3"
    },
    "language_info": {
      "name": "python"
    }
  },
  "cells": [
    {
      "cell_type": "markdown",
      "metadata": {
        "id": "view-in-github",
        "colab_type": "text"
      },
      "source": [
        "<a href=\"https://colab.research.google.com/github/minseo2526/Homework/blob/main/54enumerate()_55reversed().ipynb\" target=\"_parent\"><img src=\"https://colab.research.google.com/assets/colab-badge.svg\" alt=\"Open In Colab\"/></a>"
      ]
    },
    {
      "cell_type": "code",
      "source": [
        "solarsys=['태양','수성','금성','지구','화성','목성','토성','천왕성','해왕성']\n",
        "for i,body in enumerate(solarsys):\n",
        "  print(f'태양계의 {i}번째 천체:{body}')"
      ],
      "metadata": {
        "colab": {
          "base_uri": "https://localhost:8080/"
        },
        "id": "RhOYmB9mxO2u",
        "outputId": "1bff8133-e4a8-4dc4-f1dc-bbe4bc172cb9"
      },
      "execution_count": null,
      "outputs": [
        {
          "output_type": "stream",
          "name": "stdout",
          "text": [
            "태양계의 0번째 천체:태양\n",
            "태양계의 1번째 천체:수성\n",
            "태양계의 2번째 천체:금성\n",
            "태양계의 3번째 천체:지구\n",
            "태양계의 4번째 천체:화성\n",
            "태양계의 5번째 천체:목성\n",
            "태양계의 6번째 천체:토성\n",
            "태양계의 7번째 천체:천왕성\n",
            "태양계의 8번째 천체:해왕성\n"
          ]
        }
      ]
    },
    {
      "cell_type": "code",
      "source": [
        "seasons=['봄','여름','가을','겨울']\n",
        "print(list(enumerate(seasons,start=1)))"
      ],
      "metadata": {
        "colab": {
          "base_uri": "https://localhost:8080/"
        },
        "id": "jJJ2l8z2xvtO",
        "outputId": "c8d856c7-807d-4415-eb55-708f54e481a4"
      },
      "execution_count": null,
      "outputs": [
        {
          "output_type": "stream",
          "name": "stdout",
          "text": [
            "[(1, '봄'), (2, '여름'), (3, '가을'), (4, '겨울')]\n"
          ]
        }
      ]
    },
    {
      "cell_type": "code",
      "source": [
        "def myEnumerate(iterable,start=0):\n",
        "  n=start\n",
        "  for item in iterable:\n",
        "    yield(n,item)\n",
        "    n+=1"
      ],
      "metadata": {
        "id": "g3RbYnmPx9jf"
      },
      "execution_count": null,
      "outputs": []
    },
    {
      "cell_type": "code",
      "source": [
        "print(list(myEnumerate(seasons,start=1)))"
      ],
      "metadata": {
        "colab": {
          "base_uri": "https://localhost:8080/"
        },
        "id": "cu1Hl78ZyOU6",
        "outputId": "fc271378-0a7a-429f-84d6-ed96a7a83f3c"
      },
      "execution_count": null,
      "outputs": [
        {
          "output_type": "stream",
          "name": "stdout",
          "text": [
            "[(1, '봄'), (2, '여름'), (3, '가을'), (4, '겨울')]\n"
          ]
        }
      ]
    },
    {
      "cell_type": "code",
      "source": [
        "fruits=('사과','배','오렌지','수박')\n",
        "ret=reversed(fruits)\n",
        "print(list(ret))"
      ],
      "metadata": {
        "colab": {
          "base_uri": "https://localhost:8080/"
        },
        "id": "myLoDdsYysu3",
        "outputId": "558151f6-4dca-490e-df16-af2fc4181be4"
      },
      "execution_count": null,
      "outputs": [
        {
          "output_type": "stream",
          "name": "stdout",
          "text": [
            "['수박', '오렌지', '배', '사과']\n"
          ]
        }
      ]
    },
    {
      "cell_type": "code",
      "source": [
        "print(fruits)"
      ],
      "metadata": {
        "colab": {
          "base_uri": "https://localhost:8080/"
        },
        "id": "EhTanqqxy8Ue",
        "outputId": "f35b83c9-0655-4f63-d4c1-2d500050c574"
      },
      "execution_count": null,
      "outputs": [
        {
          "output_type": "stream",
          "name": "stdout",
          "text": [
            "('사과', '배', '오렌지', '수박')\n"
          ]
        }
      ]
    },
    {
      "cell_type": "code",
      "source": [
        "for i in reversed(range(1,6)):\n",
        "  print(i)"
      ],
      "metadata": {
        "colab": {
          "base_uri": "https://localhost:8080/"
        },
        "id": "K-35mxwzzG-W",
        "outputId": "c22338b2-5a5d-475c-f47e-68313fbab2a2"
      },
      "execution_count": null,
      "outputs": [
        {
          "output_type": "stream",
          "name": "stdout",
          "text": [
            "5\n",
            "4\n",
            "3\n",
            "2\n",
            "1\n"
          ]
        }
      ]
    }
  ]
}