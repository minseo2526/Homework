{
  "nbformat": 4,
  "nbformat_minor": 0,
  "metadata": {
    "colab": {
      "name": "CodeCells_Basic_.ipynb",
      "provenance": [],
      "toc_visible": true,
      "include_colab_link": true
    },
    "kernelspec": {
      "name": "python3",
      "display_name": "Python 3"
    },
    "language_info": {
      "name": "python"
    }
  },
  "cells": [
    {
      "cell_type": "markdown",
      "metadata": {
        "id": "view-in-github",
        "colab_type": "text"
      },
      "source": [
        "<a href=\"https://colab.research.google.com/github/minseo2526/Homework/blob/main/64list.pop()_65list.reverse().ipynb\" target=\"_parent\"><img src=\"https://colab.research.google.com/assets/colab-badge.svg\" alt=\"Open In Colab\"/></a>"
      ]
    },
    {
      "cell_type": "code",
      "source": [
        "numbers=[14,5,18,45,10,43]\n",
        "for _ in range(len(numbers)):\n",
        "  ret=numbers.pop()\n",
        "  print(f'pop()으로 추출된 값:{ret}, numbers={numbers}')"
      ],
      "metadata": {
        "colab": {
          "base_uri": "https://localhost:8080/"
        },
        "id": "0DppXxZV4vWu",
        "outputId": "cfe5ee69-d2e0-4954-d04d-f42875d62ad7"
      },
      "execution_count": null,
      "outputs": [
        {
          "output_type": "stream",
          "name": "stdout",
          "text": [
            "pop()으로 추출된 값:43, numbers=[14, 5, 18, 45, 10]\n",
            "pop()으로 추출된 값:10, numbers=[14, 5, 18, 45]\n",
            "pop()으로 추출된 값:45, numbers=[14, 5, 18]\n",
            "pop()으로 추출된 값:18, numbers=[14, 5]\n",
            "pop()으로 추출된 값:5, numbers=[14]\n",
            "pop()으로 추출된 값:14, numbers=[]\n"
          ]
        }
      ]
    },
    {
      "cell_type": "code",
      "source": [
        "numbers=[14,5,18,45,10,43]\n",
        "ret=numbers.pop(3)\n",
        "print(f'pop()으로 추출된 값:{ret}, numbers={numbers}')"
      ],
      "metadata": {
        "colab": {
          "base_uri": "https://localhost:8080/"
        },
        "id": "9dWZfED-5HzP",
        "outputId": "8dbdb2d9-56c1-4251-8cc6-08655c1bd527"
      },
      "execution_count": null,
      "outputs": [
        {
          "output_type": "stream",
          "name": "stdout",
          "text": [
            "pop()으로 추출된 값:45, numbers=[14, 5, 18, 10, 43]\n"
          ]
        }
      ]
    },
    {
      "cell_type": "code",
      "source": [
        "numbers=[1,2,3,4,5]\n",
        "ret=reversed(numbers)\n",
        "print(list(ret))\n",
        "print(numbers)"
      ],
      "metadata": {
        "colab": {
          "base_uri": "https://localhost:8080/"
        },
        "id": "kSRgg_GN5Qde",
        "outputId": "ca94beab-a946-45b7-8efb-35302cc9e7c8"
      },
      "execution_count": null,
      "outputs": [
        {
          "output_type": "stream",
          "name": "stdout",
          "text": [
            "[5, 4, 3, 2, 1]\n",
            "[1, 2, 3, 4, 5]\n"
          ]
        }
      ]
    },
    {
      "cell_type": "code",
      "source": [
        "numbers=[1,2,3,4,5]\n",
        "numbers.reverse()\n",
        "print(numbers)"
      ],
      "metadata": {
        "colab": {
          "base_uri": "https://localhost:8080/"
        },
        "id": "Q9MTMHY35cVJ",
        "outputId": "9f6ec5c1-9f9f-464c-9768-7b7f637f19d9"
      },
      "execution_count": null,
      "outputs": [
        {
          "output_type": "stream",
          "name": "stdout",
          "text": [
            "[5, 4, 3, 2, 1]\n"
          ]
        }
      ]
    }
  ]
}