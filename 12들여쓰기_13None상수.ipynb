{
  "nbformat": 4,
  "nbformat_minor": 0,
  "metadata": {
    "colab": {
      "name": "CodeCells_Basic_.ipynb",
      "provenance": [],
      "toc_visible": true,
      "include_colab_link": true
    },
    "kernelspec": {
      "name": "python3",
      "display_name": "Python 3"
    },
    "language_info": {
      "name": "python"
    }
  },
  "cells": [
    {
      "cell_type": "markdown",
      "metadata": {
        "id": "view-in-github",
        "colab_type": "text"
      },
      "source": [
        "<a href=\"https://colab.research.google.com/github/minseo2526/Homework/blob/main/12%EB%93%A4%EC%97%AC%EC%93%B0%EA%B8%B0_13None%EC%83%81%EC%88%98.ipynb\" target=\"_parent\"><img src=\"https://colab.research.google.com/assets/colab-badge.svg\" alt=\"Open In Colab\"/></a>"
      ]
    },
    {
      "cell_type": "code",
      "source": [
        "listData=['a','b','c']\n",
        "if 'a' in listData:\n",
        "  print('\"a\"가 listData에 요소로 존재합니다.')\n",
        "else:\n",
        "  print('\"a\"가 listData에 요소로 존재하지 않습니다.')"
      ],
      "metadata": {
        "colab": {
          "base_uri": "https://localhost:8080/"
        },
        "id": "mf9JiLCU-Gbe",
        "outputId": "bd1518b3-a754-4e25-a23b-8af7be606230"
      },
      "execution_count": null,
      "outputs": [
        {
          "output_type": "stream",
          "name": "stdout",
          "text": [
            "\"a\"가 listData에 요소로 존재합니다.\n"
          ]
        }
      ]
    },
    {
      "cell_type": "code",
      "source": [
        "listData=['a','b','c']\n",
        "if 'a' in listData:print('\"a\"가 listData에 요소로 존재합니다.')"
      ],
      "metadata": {
        "colab": {
          "base_uri": "https://localhost:8080/"
        },
        "id": "2yq31XIf-fhu",
        "outputId": "b27c315a-0257-4bae-856f-33149d97c59f"
      },
      "execution_count": null,
      "outputs": [
        {
          "output_type": "stream",
          "name": "stdout",
          "text": [
            "\"a\"가 listData에 요소로 존재합니다.\n"
          ]
        }
      ]
    },
    {
      "cell_type": "code",
      "source": [
        "  listData=['a','b','c']\n",
        "if 'a' in listData:\n",
        "  print('\"a\"가 listData에 요소로 존재합니다.')\n",
        "else:\n",
        "  print('\"a\"가 listData에 요소로 존재하지 않습니다.')\n"
      ],
      "metadata": {
        "colab": {
          "base_uri": "https://localhost:8080/",
          "height": 112
        },
        "id": "dCAwLhJV-voB",
        "outputId": "1f5722c9-9fef-4b05-915e-0336989fc5a2"
      },
      "execution_count": null,
      "outputs": [
        {
          "output_type": "error",
          "ename": "IndentationError",
          "evalue": "expected an indented block after 'if' statement on line 2 (ipython-input-1877590946.py, line 3)",
          "traceback": [
            "\u001b[0;36m  File \u001b[0;32m\"/tmp/ipython-input-1877590946.py\"\u001b[0;36m, line \u001b[0;32m3\u001b[0m\n\u001b[0;31m    print('\"a\"가 listData에 요소로 존재합니다.')\u001b[0m\n\u001b[0m    ^\u001b[0m\n\u001b[0;31mIndentationError\u001b[0m\u001b[0;31m:\u001b[0m expected an indented block after 'if' statement on line 2\n"
          ]
        }
      ]
    },
    {
      "cell_type": "code",
      "source": [
        "listData=['a','b','c']\n",
        "if 'a' in listData:\n",
        "  print('\"a\"가 listData에 요소로 존재합니다.')\n",
        "    print('프로그램을 종료합니다.')\n",
        "else:\n",
        "  print('\"a\"가 listData에 요소로 존재하지 않습니다.')"
      ],
      "metadata": {
        "colab": {
          "base_uri": "https://localhost:8080/",
          "height": 112
        },
        "id": "OmmdECKE_Jx9",
        "outputId": "10acb021-5545-4b74-c853-136a7ba6d032"
      },
      "execution_count": null,
      "outputs": [
        {
          "output_type": "error",
          "ename": "IndentationError",
          "evalue": "unexpected indent (ipython-input-677670091.py, line 4)",
          "traceback": [
            "\u001b[0;36m  File \u001b[0;32m\"/tmp/ipython-input-677670091.py\"\u001b[0;36m, line \u001b[0;32m4\u001b[0m\n\u001b[0;31m    print('프로그램을 종료합니다.')\u001b[0m\n\u001b[0m    ^\u001b[0m\n\u001b[0;31mIndentationError\u001b[0m\u001b[0;31m:\u001b[0m unexpected indent\n"
          ]
        }
      ]
    },
    {
      "cell_type": "code",
      "source": [
        "val=None\n",
        "flag=True\n",
        "if flag:\n",
        "  val=[1,2,3,4,5]\n",
        "else:\n",
        "  val='안녕하세요 파이썬!'"
      ],
      "metadata": {
        "id": "Kj06bE7A_Uwn"
      },
      "execution_count": null,
      "outputs": []
    },
    {
      "cell_type": "code",
      "source": [],
      "metadata": {
        "id": "rADo8Pp1_gIh"
      },
      "execution_count": null,
      "outputs": []
    }
  ]
}