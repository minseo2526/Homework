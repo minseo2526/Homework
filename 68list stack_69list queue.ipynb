{
  "nbformat": 4,
  "nbformat_minor": 0,
  "metadata": {
    "colab": {
      "name": "CodeCells_Basic_.ipynb",
      "provenance": [],
      "toc_visible": true,
      "include_colab_link": true
    },
    "kernelspec": {
      "name": "python3",
      "display_name": "Python 3"
    },
    "language_info": {
      "name": "python"
    }
  },
  "cells": [
    {
      "cell_type": "markdown",
      "metadata": {
        "id": "view-in-github",
        "colab_type": "text"
      },
      "source": [
        "<a href=\"https://colab.research.google.com/github/minseo2526/Homework/blob/main/68list%20stack_69list%20queue.ipynb\" target=\"_parent\"><img src=\"https://colab.research.google.com/assets/colab-badge.svg\" alt=\"Open In Colab\"/></a>"
      ]
    },
    {
      "cell_type": "code",
      "source": [
        "mystack=[]"
      ],
      "metadata": {
        "id": "KBAXqCdA69Yh"
      },
      "execution_count": null,
      "outputs": []
    },
    {
      "cell_type": "code",
      "source": [
        "def putData(data):\n",
        "  mystack.append(data)"
      ],
      "metadata": {
        "id": "TJmkyVgN7AXg"
      },
      "execution_count": null,
      "outputs": []
    },
    {
      "cell_type": "code",
      "source": [
        "def popData():\n",
        "  if len(mystack)==0:\n",
        "    return None\n",
        "  return mystack.pop()"
      ],
      "metadata": {
        "id": "BzDC22jw7Ii8"
      },
      "execution_count": null,
      "outputs": []
    },
    {
      "cell_type": "code",
      "source": [
        "putData('사과')\n",
        "putData([1,2,3])\n",
        "putData(3.141592)\n",
        "print(f'스택상태:{mystack}')"
      ],
      "metadata": {
        "colab": {
          "base_uri": "https://localhost:8080/"
        },
        "id": "PZNEiKUA7Qto",
        "outputId": "0afa358f-b6ad-44b7-9181-bcb2e9eecae5"
      },
      "execution_count": null,
      "outputs": [
        {
          "output_type": "stream",
          "name": "stdout",
          "text": [
            "스택상태:['사과', [1, 2, 3], 3.141592]\n"
          ]
        }
      ]
    },
    {
      "cell_type": "code",
      "source": [
        "ret=popData()\n",
        "while ret!=None:\n",
        "  print(f'스택에서 데이터 추출:{ret}')\n",
        "  print(f'스택상태:{mystack}')\n",
        "  print('--------------')\n",
        "  ret=popData()\n"
      ],
      "metadata": {
        "colab": {
          "base_uri": "https://localhost:8080/"
        },
        "id": "H9j2WL927dx6",
        "outputId": "ad349349-d904-4ea7-a0ca-68d412503966"
      },
      "execution_count": null,
      "outputs": [
        {
          "output_type": "stream",
          "name": "stdout",
          "text": [
            "스택에서 데이터 추출:3.141592\n",
            "스택상태:['사과', [1, 2, 3]]\n",
            "--------------\n",
            "스택에서 데이터 추출:[1, 2, 3]\n",
            "스택상태:['사과']\n",
            "--------------\n",
            "스택에서 데이터 추출:사과\n",
            "스택상태:[]\n",
            "--------------\n"
          ]
        }
      ]
    },
    {
      "cell_type": "code",
      "source": [
        "import collections\n",
        "myqueue=collections.deque([])"
      ],
      "metadata": {
        "id": "QdlhMvz674Ud"
      },
      "execution_count": null,
      "outputs": []
    },
    {
      "cell_type": "code",
      "source": [
        "def putData(data):\n",
        "  myqueue.append(data)"
      ],
      "metadata": {
        "id": "5v6oI5Sf8FNh"
      },
      "execution_count": null,
      "outputs": []
    },
    {
      "cell_type": "code",
      "source": [
        "def popData():\n",
        "  if len(myqueue)==0:\n",
        "    return None\n",
        "  return myqueue.popleft()"
      ],
      "metadata": {
        "id": "bHRB8B1M8Kle"
      },
      "execution_count": null,
      "outputs": []
    },
    {
      "cell_type": "code",
      "source": [
        "putData('사과')\n",
        "putData([1,2,3])\n",
        "putData(3.141592)\n",
        "print(f'큐상태:{myqueue}')"
      ],
      "metadata": {
        "colab": {
          "base_uri": "https://localhost:8080/"
        },
        "id": "B_sfsmwa8So1",
        "outputId": "39a308ea-cd16-419a-d90e-6b571505da19"
      },
      "execution_count": null,
      "outputs": [
        {
          "output_type": "stream",
          "name": "stdout",
          "text": [
            "큐상태:deque(['사과', [1, 2, 3], 3.141592])\n"
          ]
        }
      ]
    },
    {
      "cell_type": "code",
      "source": [
        "ret=popData()\n",
        "while ret!=None:\n",
        "  print(f'큐에서 데이터 추출:{ret}')\n",
        "  print(f'큐상태:{myqueue}')\n",
        "  print('--------------')\n",
        "  ret=popData()"
      ],
      "metadata": {
        "colab": {
          "base_uri": "https://localhost:8080/"
        },
        "id": "i6ACYjcA8aSN",
        "outputId": "feefb4a6-6fbb-4bc1-b30c-dff9ae285c0d"
      },
      "execution_count": null,
      "outputs": [
        {
          "output_type": "stream",
          "name": "stdout",
          "text": [
            "큐에서 데이터 추출:사과\n",
            "큐상태:deque([[1, 2, 3], 3.141592])\n",
            "--------------\n",
            "큐에서 데이터 추출:[1, 2, 3]\n",
            "큐상태:deque([3.141592])\n",
            "--------------\n",
            "큐에서 데이터 추출:3.141592\n",
            "큐상태:deque([])\n",
            "--------------\n"
          ]
        }
      ]
    }
  ]
}